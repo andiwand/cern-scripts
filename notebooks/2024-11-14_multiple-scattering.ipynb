{
 "cells": [
  {
   "cell_type": "code",
   "execution_count": null,
   "id": "0190d358-a806-46ba-b1a2-770b86fd464f",
   "metadata": {},
   "outputs": [],
   "source": [
    "import sympy as sym"
   ]
  },
  {
   "cell_type": "code",
   "execution_count": null,
   "id": "0dee6402-4019-40e8-8d7c-bc6a781dbae9",
   "metadata": {},
   "outputs": [],
   "source": [
    "x, beta, p, z, x0 = sym.symbols(\"x beta p z X0\")\n",
    "\n",
    "theta0 = 13.6 / (beta * p) * z * sym.sqrt(x / x0) * (1 + 0.038 * sym.ln(x * z**2 / (x0 * beta**2)))\n",
    "\n",
    "theta0"
   ]
  },
  {
   "cell_type": "code",
   "execution_count": null,
   "id": "8ba0ebe6-3416-4742-9ffc-f0878cb754c6",
   "metadata": {},
   "outputs": [],
   "source": [
    "d = sym.symbols(\"d\")\n",
    "\n",
    "sym.integrate(theta0, (x, 0, d)).simplify()"
   ]
  }
 ],
 "metadata": {
  "kernelspec": {
   "display_name": "Python 3 (ipykernel)",
   "language": "python",
   "name": "python3"
  },
  "language_info": {
   "codemirror_mode": {
    "name": "ipython",
    "version": 3
   },
   "file_extension": ".py",
   "mimetype": "text/x-python",
   "name": "python",
   "nbconvert_exporter": "python",
   "pygments_lexer": "ipython3",
   "version": "3.12.7"
  }
 },
 "nbformat": 4,
 "nbformat_minor": 5
}
