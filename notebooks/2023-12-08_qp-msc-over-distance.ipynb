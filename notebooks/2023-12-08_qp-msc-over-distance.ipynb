{
 "cells": [
  {
   "cell_type": "code",
   "execution_count": null,
   "id": "267a2dc2-60d7-45ef-b16a-870f689b31f7",
   "metadata": {},
   "outputs": [],
   "source": [
    "\"\"\"\n",
    "// RPP2018 eq. 33.15 (treats beta and q² consistently)\n",
    "  const float t = std::sqrt(xOverX0 * q2OverBeta2);\n",
    "  // log((x/X0) * (q²/beta²)) = log((sqrt(x/X0) * (q/beta))²)\n",
    "  //                          = 2 * log(sqrt(x/X0) * (q/beta))\n",
    "  return 13.6_MeV * momentumInv * t * (1.0f + 0.038f * 2 * std::log(t));\n",
    "\"\"\"\n",
    "\n",
    "import matplotlib.pyplot as plt\n",
    "import numpy as np"
   ]
  },
  {
   "cell_type": "code",
   "execution_count": null,
   "id": "2de2e5ca-79ea-4132-995a-3a6328c1b776",
   "metadata": {},
   "outputs": [],
   "source": [
    "def msc(x, x0, m, q, p):\n",
    "    q2_over_beta2 = q**2 + (m*q/p)**2\n",
    "    t = (x/x0 * q2_over_beta2)**0.5\n",
    "    return 13.6*1e-3 / p * t * (1 + 0.038 * 2 * np.log(t))"
   ]
  },
  {
   "cell_type": "code",
   "execution_count": null,
   "id": "4dcc3b9e-732c-44f4-a7ef-aaf8e2b783de",
   "metadata": {},
   "outputs": [],
   "source": [
    "thickness = 1000\n",
    "x = np.linspace(1, thickness, 1000)\n",
    "std = msc(x, 140, 0.1, 1, 1)**2 * (thickness/x)\n",
    "\n",
    "plt.plot(x,std)"
   ]
  },
  {
   "cell_type": "code",
   "execution_count": null,
   "id": "d7288f1d-ced8-4535-b314-24bfdf2afb6e",
   "metadata": {},
   "outputs": [],
   "source": []
  }
 ],
 "metadata": {
  "kernelspec": {
   "display_name": "Python 3 (ipykernel)",
   "language": "python",
   "name": "python3"
  },
  "language_info": {
   "codemirror_mode": {
    "name": "ipython",
    "version": 3
   },
   "file_extension": ".py",
   "mimetype": "text/x-python",
   "name": "python",
   "nbconvert_exporter": "python",
   "pygments_lexer": "ipython3",
   "version": "3.11.4"
  }
 },
 "nbformat": 4,
 "nbformat_minor": 5
}
