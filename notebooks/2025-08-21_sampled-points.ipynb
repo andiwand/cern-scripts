{
 "cells": [
  {
   "cell_type": "code",
   "execution_count": null,
   "id": "4930beb8-3d58-4d8a-8ac2-1e1cbf726fa7",
   "metadata": {},
   "outputs": [],
   "source": [
    "%matplotlib widget"
   ]
  },
  {
   "cell_type": "code",
   "execution_count": null,
   "id": "889b4336-b344-4336-af90-9bd084abface",
   "metadata": {},
   "outputs": [],
   "source": [
    "import matplotlib.pyplot as plt\n",
    "from matplotlib.collections import LineCollection\n",
    "import pandas as pd\n",
    "import numpy as np"
   ]
  },
  {
   "cell_type": "code",
   "execution_count": null,
   "id": "584fc780-a579-4322-9d16-97f10b051361",
   "metadata": {},
   "outputs": [],
   "source": [
    "points = pd.read_csv(\"2025-08-21_sampled-points.csv\")\n",
    "points[\"gr\"] = np.linalg.norm(points[[\"gx\", \"gy\"]], axis=1)\n",
    "points"
   ]
  },
  {
   "cell_type": "code",
   "execution_count": null,
   "id": "f68bab07-ca6d-449b-bbfb-ed75e7d7e393",
   "metadata": {},
   "outputs": [],
   "source": [
    "point_mask = (points[\"gz\"] > 0)\n",
    "points_masked = points[point_mask]\n",
    "\n",
    "plt.scatter(points_masked[\"gz\"], points_masked[\"gr\"], s=0.1)"
   ]
  },
  {
   "cell_type": "code",
   "execution_count": null,
   "id": "20ecc31f-7b44-42b1-810d-565755a38ac1",
   "metadata": {},
   "outputs": [],
   "source": [
    "doublets = pd.read_csv(\"2025-08-22_found-doublets.csv\")\n",
    "doublets[\"from_r\"] = np.linalg.norm(doublets[[\"from_x\", \"from_y\"]], axis=1)\n",
    "doublets[\"to_r\"] = np.linalg.norm(doublets[[\"to_x\", \"to_y\"]], axis=1)\n",
    "doublets"
   ]
  },
  {
   "cell_type": "code",
   "execution_count": null,
   "id": "8af95e68-4a92-4370-baca-1cdb94e6f1ec",
   "metadata": {},
   "outputs": [],
   "source": [
    "doublet_mask = np.full(doublets.shape, True)\n",
    "doublets_masked = doublets[doublet_mask]\n",
    "\n",
    "fig, ax = plt.subplots()\n",
    "\n",
    "lines = np.hstack([doublets_masked[[\"from_z\", \"from_r\"]].values[:,np.newaxis], doublets_masked[[\"to_z\", \"to_r\"]].values[:,np.newaxis]])\n",
    "ax.add_collection(LineCollection(lines, color=\"grey\", linewidth=0.1))\n",
    "\n",
    "plt.scatter(doublets_masked[\"from_z\"], doublets_masked[\"from_r\"], s=3)\n",
    "plt.scatter(doublets_masked[\"to_z\"], doublets_masked[\"to_r\"], s=3)"
   ]
  },
  {
   "cell_type": "code",
   "execution_count": null,
   "id": "c4d6fa98-95ad-4aa9-b8ab-aaddc7506a3d",
   "metadata": {},
   "outputs": [],
   "source": [
    "doublet_mask = (doublets[\"from_z\"].abs() < 250) & (doublets[\"to_z\"].abs() < 250)\n",
    "doublets_masked = doublets[doublet_mask]\n",
    "\n",
    "fig, ax = plt.subplots()\n",
    "\n",
    "lines = np.hstack([doublets_masked[[\"from_x\", \"from_y\"]].values[:,np.newaxis], doublets_masked[[\"to_x\", \"to_y\"]].values[:,np.newaxis]])\n",
    "ax.add_collection(LineCollection(lines, color=\"grey\", linewidth=0.1))\n",
    "\n",
    "plt.scatter(doublets_masked[\"from_x\"], doublets_masked[\"from_y\"], s=3)\n",
    "plt.scatter(doublets_masked[\"to_x\"], doublets_masked[\"to_y\"], s=3)"
   ]
  },
  {
   "cell_type": "code",
   "execution_count": null,
   "id": "b43a8563-c7dd-4f7c-bb11-b864449aae67",
   "metadata": {},
   "outputs": [],
   "source": []
  }
 ],
 "metadata": {
  "kernelspec": {
   "display_name": "Python 3 (ipykernel)",
   "language": "python",
   "name": "python3"
  },
  "language_info": {
   "codemirror_mode": {
    "name": "ipython",
    "version": 3
   },
   "file_extension": ".py",
   "mimetype": "text/x-python",
   "name": "python",
   "nbconvert_exporter": "python",
   "pygments_lexer": "ipython3",
   "version": "3.12.11"
  }
 },
 "nbformat": 4,
 "nbformat_minor": 5
}
