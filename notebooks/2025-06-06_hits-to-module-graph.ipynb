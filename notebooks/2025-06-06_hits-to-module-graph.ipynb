{
 "cells": [
  {
   "cell_type": "code",
   "execution_count": null,
   "id": "cc632f06-96b6-42ba-8124-f08c9fe7e091",
   "metadata": {},
   "outputs": [],
   "source": [
    "import uproot\n",
    "import awkward as ak\n",
    "import pandas as pd\n",
    "import numpy as np"
   ]
  },
  {
   "cell_type": "code",
   "execution_count": null,
   "id": "62fee687-9e44-4047-9bf6-854ccba7fdfb",
   "metadata": {},
   "outputs": [],
   "source": [
    "min_pt = 1\n",
    "min_distance = 10"
   ]
  },
  {
   "cell_type": "code",
   "execution_count": null,
   "id": "e56ca13b-2339-4e43-8655-5d0a9a4b60f0",
   "metadata": {},
   "outputs": [],
   "source": [
    "particles = uproot.open(\"/Users/andreas/cern/source/acts/acts/dev3/odd_output/particles_simulation.root\")\n",
    "particles = ak.to_dataframe(particles[\"particles\"].arrays([\n",
    "        \"event_id\",\n",
    "        \"particle_id\",\n",
    "        \"q\",\n",
    "        \"pt\",\n",
    "    ],library=\"ak\"), how=\"inner\")\n",
    "particles = particles[\n",
    "    (particles[\"q\"] != 0) &\n",
    "    (particles[\"pt\"] >= min_pt)\n",
    "]\n",
    "particles = particles.reset_index(drop=True)\n",
    "particles"
   ]
  },
  {
   "cell_type": "code",
   "execution_count": null,
   "id": "ff9fc741-fed7-47be-a4fd-1c1de3ec1523",
   "metadata": {},
   "outputs": [],
   "source": [
    "hits = uproot.open(\"/Users/andreas/cern/source/acts/acts/dev3/odd_output/hits.root\")\n",
    "hits = ak.to_dataframe(hits[\"hits\"].arrays([\n",
    "        \"event_id\",\n",
    "        \"particle_id\",\n",
    "        \"index\",\n",
    "        \"geometry_id\",\n",
    "        \"volume_id\",\n",
    "        \"layer_id\",\n",
    "        \"tx\",\n",
    "        \"ty\",\n",
    "        \"tz\",\n",
    "    ],library=\"ak\"), how=\"inner\")\n",
    "hits = hits.reset_index(drop=True)\n",
    "hits"
   ]
  },
  {
   "cell_type": "code",
   "execution_count": null,
   "id": "3bbc6605-6e40-4b70-818b-dc2c626dc0ce",
   "metadata": {},
   "outputs": [],
   "source": [
    "particles = particles.convert_dtypes()\n",
    "hits = hits.convert_dtypes()\n",
    "reduced_hits = hits.set_index([\"event_id\", \"particle_id\"]).join(particles.set_index([\"event_id\", \"particle_id\"]), how=\"right\")\n",
    "reduced_hits"
   ]
  },
  {
   "cell_type": "code",
   "execution_count": null,
   "id": "5d5da208-90e1-4a57-a017-dcfd2a79061e",
   "metadata": {},
   "outputs": [],
   "source": [
    "doublet_set = set()\n",
    "triplet_set = set()\n",
    "\n",
    "for name, groups in reduced_hits.groupby([\"event_id\", \"particle_id\"]):\n",
    "    groups = groups.sort_values(\"index\")\n",
    "\n",
    "    pairs = pd.concat([groups[:-1].add_prefix(\"a_\"), groups[1:].add_prefix(\"b_\")], axis=1)\n",
    "    vectors_ab = pairs[[\"a_tx\",\"a_ty\",\"a_tz\"]].values.astype(float) - pairs[[\"b_tx\",\"b_ty\",\"b_tz\"]].values.astype(float)\n",
    "    pairs[\"ab_distance\"] = np.linalg.norm(vectors_ab, axis=1)\n",
    "    doublet_sequence = []\n",
    "    for i, row in pairs.iterrows():\n",
    "        doublet = (row[\"a_geometry_id\"], row[\"b_geometry_id\"])\n",
    "        if row[\"ab_distance\"] < min_distance:\n",
    "            continue\n",
    "        doublet_sequence.append(doublet)\n",
    "        doublet_set.add(doublet)\n",
    "\n",
    "    for a,b in zip(doublet_sequence[:-1], doublet_sequence[1:]):\n",
    "        triplet = (a[0],a[1],b[1])\n",
    "        triplet_set.add(triplet)\n",
    "\n",
    "print(\"doublets\", len(doublet_set))\n",
    "print(\"triplets\", len(triplet_set))"
   ]
  },
  {
   "cell_type": "code",
   "execution_count": null,
   "id": "661ff2c4-0ebb-4b48-a01c-c47b690478fd",
   "metadata": {},
   "outputs": [],
   "source": [
    "pd.DataFrame(doublet_set, columns=[\"module_a\",\"module_b\"]).to_csv(\"module_doublets.csv\", index=False)\n",
    "pd.DataFrame(triplet_set, columns=[\"module_a\",\"module_b\",\"module_c\"]).to_csv(\"module_triplets.csv\", index=False)"
   ]
  },
  {
   "cell_type": "code",
   "execution_count": null,
   "id": "4e8ee904-991e-48cf-843d-e07125eee488",
   "metadata": {},
   "outputs": [],
   "source": []
  }
 ],
 "metadata": {
  "kernelspec": {
   "display_name": "Python 3 (ipykernel)",
   "language": "python",
   "name": "python3"
  },
  "language_info": {
   "codemirror_mode": {
    "name": "ipython",
    "version": 3
   },
   "file_extension": ".py",
   "mimetype": "text/x-python",
   "name": "python",
   "nbconvert_exporter": "python",
   "pygments_lexer": "ipython3",
   "version": "3.12.7"
  }
 },
 "nbformat": 4,
 "nbformat_minor": 5
}
