{
 "cells": [
  {
   "cell_type": "code",
   "execution_count": null,
   "id": "241581f6-3a37-4435-a2cc-c4b3f2971444",
   "metadata": {},
   "outputs": [],
   "source": [
    "import sympy as sym\n",
    "from sympy import Matrix, MatrixSymbol"
   ]
  },
  {
   "cell_type": "code",
   "execution_count": null,
   "id": "b9f9fbfb-ba3a-4933-8f35-2bf5dce19c19",
   "metadata": {},
   "outputs": [],
   "source": [
    "a = MatrixSymbol(\"a\", 2, 1).as_explicit()\n",
    "b = MatrixSymbol(\"b\", 2, 1).as_explicit()\n",
    "p = MatrixSymbol(\"p\", 2, 1).as_explicit()\n",
    "metric = MatrixSymbol(\"metric\", 2, 2).as_explicit()\n",
    "\n",
    "n = b - a\n",
    "f = n.T * metric * n\n",
    "u = ((p - a).T * metric * n)[0,0] / f[0,0]\n",
    "\n",
    "sym.simplify(u)"
   ]
  },
  {
   "cell_type": "code",
   "execution_count": null,
   "id": "6c2c734c-1e67-4bc4-997c-e8dca66cce59",
   "metadata": {},
   "outputs": [],
   "source": []
  }
 ],
 "metadata": {
  "kernelspec": {
   "display_name": "Python 3 (ipykernel)",
   "language": "python",
   "name": "python3"
  },
  "language_info": {
   "codemirror_mode": {
    "name": "ipython",
    "version": 3
   },
   "file_extension": ".py",
   "mimetype": "text/x-python",
   "name": "python",
   "nbconvert_exporter": "python",
   "pygments_lexer": "ipython3",
   "version": "3.12.7"
  }
 },
 "nbformat": 4,
 "nbformat_minor": 5
}
