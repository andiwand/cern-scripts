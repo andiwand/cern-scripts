{
 "cells": [
  {
   "cell_type": "code",
   "execution_count": null,
   "id": "c7c8e0c6-d09c-4ab5-9226-d25f484e3f43",
   "metadata": {},
   "outputs": [],
   "source": [
    "import numpy as np\n",
    "import pandas as pd\n",
    "import re\n",
    "import matplotlib.pyplot as plt"
   ]
  },
  {
   "cell_type": "code",
   "execution_count": null,
   "id": "a659f82a-66ee-44ef-ad7b-6c1604cb3019",
   "metadata": {},
   "outputs": [],
   "source": [
    "def pull_data(file):\n",
    "    data = []\n",
    "    for line in open(file):\n",
    "        m = re.search(r\"pathLength{(.*)} stepCount{(.*)} navInit{(.*)} navPreStep{(.*)} navPostStep{(.*)}\", line)\n",
    "        if m:\n",
    "            d = {}\n",
    "            d[\"pathLength\"] = float(m.group(1))\n",
    "            d[\"stepCount\"] = int(m.group(2))\n",
    "            d[\"navInit\"] = float(m.group(3))\n",
    "            d[\"navPreStep\"] = float(m.group(4))\n",
    "            d[\"navPostStep\"] = float(m.group(5))\n",
    "            data.append(d)\n",
    "    return data"
   ]
  },
  {
   "cell_type": "code",
   "execution_count": null,
   "id": "027a291e-1d40-403a-a3be-262ac5ded478",
   "metadata": {},
   "outputs": [],
   "source": [
    "a = pull_data(\"/home/andreas/cern/source/acts/acts/git1/odd_perf_output_main/debug-log.txt\")\n",
    "b = pull_data(\"/home/andreas/cern/source/acts/acts/git1/odd_perf_output_changed/debug-log.txt\")\n",
    "\n",
    "a = pd.DataFrame(a)\n",
    "b = pd.DataFrame(b)\n",
    "\n",
    "print(len(a),len(b))\n",
    "print(a.mean())\n",
    "print(b.mean())\n",
    "\n",
    "print((b[\"navInit\"].mean()+b[\"navPreStep\"].mean()+b[\"navPostStep\"].mean()) / (a[\"navInit\"].mean()+a[\"navPreStep\"].mean()+a[\"navPostStep\"].mean()))\n",
    "print((b[\"navPreStep\"].mean()+b[\"navPostStep\"].mean()) / (a[\"navPreStep\"].mean()+a[\"navPostStep\"].mean()))"
   ]
  },
  {
   "cell_type": "code",
   "execution_count": null,
   "id": "bbf5a2d4-d09b-4f47-8821-c72cd333c178",
   "metadata": {},
   "outputs": [],
   "source": [
    "plt.hist(a[\"pathLength\"], bins=100, range=(0, 8000), histtype=\"step\", label=\"main\");\n",
    "plt.hist(b[\"pathLength\"], bins=100, range=(0, 8000), histtype=\"step\", label=\"changed\");\n",
    "plt.legend();"
   ]
  },
  {
   "cell_type": "code",
   "execution_count": null,
   "id": "4548e71e-1247-4ea0-af41-f09eb21ab522",
   "metadata": {},
   "outputs": [],
   "source": [
    "plt.hist(a[\"stepCount\"], bins=100, range=(0, 400), histtype=\"step\", label=\"main\");\n",
    "plt.hist(b[\"stepCount\"], bins=100, range=(0, 400), histtype=\"step\", label=\"changed\");\n",
    "plt.legend();"
   ]
  },
  {
   "cell_type": "code",
   "execution_count": null,
   "id": "7a919965-bc37-4e16-91f5-463ca17b0131",
   "metadata": {},
   "outputs": [],
   "source": [
    "plt.hist(a[\"navInit\"]+a[\"navPreStep\"]+a[\"navPostStep\"], bins=100, range=(0, 2e-4), histtype=\"step\", label=\"main\");\n",
    "plt.hist(b[\"navInit\"]+b[\"navPreStep\"]+b[\"navPostStep\"], bins=100, range=(0, 2e-4), histtype=\"step\", label=\"changed\");\n",
    "plt.legend();"
   ]
  },
  {
   "cell_type": "code",
   "execution_count": null,
   "id": "ecd1e258-8140-4685-adcd-cc085195b0cc",
   "metadata": {},
   "outputs": [],
   "source": [
    "a = pd.read_csv(\"/home/andreas/cern/scripts/perf_main/times.csv\");\n",
    "b = pd.read_csv(\"/home/andreas/cern/scripts/perf_rewrite/times.csv\");"
   ]
  },
  {
   "cell_type": "code",
   "execution_count": null,
   "id": "d2e09190-e0f3-4b34-9245-e50673676d85",
   "metadata": {},
   "outputs": [],
   "source": [
    "plt.hist(a[\"fatras\"], bins=10, histtype=\"step\", label=\"main\");\n",
    "plt.hist(b[\"fatras\"], bins=10, histtype=\"step\", label=\"changed\");\n",
    "plt.title(\"fatras\");\n",
    "plt.xlabel(\"time [s]\");\n",
    "plt.ylabel(\"au\");\n",
    "plt.legend();\n",
    "\n",
    "print(b[\"fatras\"].mean() / a[\"fatras\"].mean())"
   ]
  },
  {
   "cell_type": "code",
   "execution_count": null,
   "id": "ef573846-a8b9-408c-81ec-acf5bb94c117",
   "metadata": {},
   "outputs": [],
   "source": [
    "plt.hist(a[\"ckf\"], bins=10, histtype=\"step\", label=\"main\");\n",
    "plt.hist(b[\"ckf\"], bins=10, histtype=\"step\", label=\"changed\");\n",
    "plt.title(\"ckf\");\n",
    "plt.xlabel(\"time [s]\");\n",
    "plt.ylabel(\"au\");\n",
    "plt.legend();\n",
    "\n",
    "print(b[\"ckf\"].mean() / a[\"ckf\"].mean())"
   ]
  },
  {
   "cell_type": "code",
   "execution_count": null,
   "id": "ff7f49ca-706f-46e1-89c1-bcaaa789b966",
   "metadata": {},
   "outputs": [],
   "source": [
    "def pull_data(file):\n",
    "    data = []\n",
    "    for line in open(file):\n",
    "        m = re.search(r\"nav1{(.*)} nav2{(.*)} nav3{(.*)} nav1{(.*)} nav2{(.*)} nav3{(.*)}\", line)\n",
    "        if m:\n",
    "            d = {}\n",
    "            d[\"nav1count\"] = int(m.group(1))\n",
    "            d[\"nav2count\"] = int(m.group(2))\n",
    "            d[\"nav3count\"] = int(m.group(3))\n",
    "            d[\"nav1time\"] = float(m.group(4))\n",
    "            d[\"nav2time\"] = float(m.group(5))\n",
    "            d[\"nav3time\"] = float(m.group(6))\n",
    "            data.append(d)\n",
    "    return data"
   ]
  },
  {
   "cell_type": "code",
   "execution_count": null,
   "id": "5f9d9135-e43e-4c63-86a9-58d414bce035",
   "metadata": {},
   "outputs": [],
   "source": [
    "a = pull_data(\"/home/andreas/cern/source/acts/acts/git1/odd_perf_output_changed/debug-log-a.txt\")\n",
    "b = pull_data(\"/home/andreas/cern/source/acts/acts/git1/odd_perf_output_changed/debug-log-bb.txt\")\n",
    "\n",
    "a = pd.DataFrame(a)\n",
    "b = pd.DataFrame(b)\n",
    "\n",
    "print(len(a),len(b))\n",
    "print(a.sum(),b.sum())"
   ]
  },
  {
   "cell_type": "code",
   "execution_count": null,
   "id": "4a8e16cb-a81b-4f6e-bfef-689cb5415f48",
   "metadata": {},
   "outputs": [],
   "source": [
    "plt.hist(a[\"nav2time\"], bins=100, range=(0, 3e-5), histtype=\"step\", label=\"a\");\n",
    "plt.hist(b[\"nav2time\"], bins=100, range=(0, 3e-5), histtype=\"step\", label=\"b\");\n",
    "plt.legend();"
   ]
  },
  {
   "cell_type": "code",
   "execution_count": null,
   "id": "75d68b9e-5863-463a-add0-dee16c4792bc",
   "metadata": {},
   "outputs": [],
   "source": []
  }
 ],
 "metadata": {
  "kernelspec": {
   "display_name": "Python 3 (ipykernel)",
   "language": "python",
   "name": "python3"
  },
  "language_info": {
   "codemirror_mode": {
    "name": "ipython",
    "version": 3
   },
   "file_extension": ".py",
   "mimetype": "text/x-python",
   "name": "python",
   "nbconvert_exporter": "python",
   "pygments_lexer": "ipython3",
   "version": "3.11.4"
  }
 },
 "nbformat": 4,
 "nbformat_minor": 5
}
