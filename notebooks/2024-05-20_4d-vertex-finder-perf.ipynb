{
 "cells": [
  {
   "cell_type": "code",
   "execution_count": null,
   "id": "7f7a6042-f17a-4c08-b542-b58727be63bb",
   "metadata": {},
   "outputs": [],
   "source": [
    "import numpy as np\n",
    "import pandas as pd\n",
    "import matplotlib.pyplot as plt"
   ]
  },
  {
   "cell_type": "code",
   "execution_count": null,
   "id": "9b1bcf5f-59f3-40db-ab5b-d25301c8b80f",
   "metadata": {},
   "outputs": [],
   "source": [
    "times = pd.read_csv(\"2024-05-20_4d-vertex-finder-perf.txt\")\n",
    "times_wt = times[times[\"with_time\"]]\n",
    "times_wot = times[~times[\"with_time\"]]\n",
    "\n",
    "times_wt, times_wot"
   ]
  },
  {
   "cell_type": "code",
   "execution_count": null,
   "id": "c9cfac7e-bb3b-4707-8dfa-0a61e3c2446e",
   "metadata": {},
   "outputs": [],
   "source": [
    "fig = plt.figure(figsize=(10,4))\n",
    "(ax1, ax2) = fig.subplots(2, 1, sharex=True, gridspec_kw={\"height_ratios\": [4, 1]})\n",
    "fig.subplots_adjust(hspace=0)\n",
    "\n",
    "ax1.plot(times_wot[\"pu\"], times_wot[\"cpu_finding\"], \"o--\", color=\"C0\", label=\"CPU track finding time\")\n",
    "ax1.plot(times_wot[\"pu\"], times_wot[\"cpu_vertexing\"], \"o--\", color=\"C1\", label=\"CPU vertexing w/o time\")\n",
    "ax1.plot(times_wt[\"pu\"], times_wt[\"cpu_vertexing\"], \"o--\", color=\"C2\", label=\"CPU vertexing w/ time\")\n",
    "\n",
    "ax2.plot(times_wot[\"pu\"], np.ones(times_wot[\"pu\"].shape), \"--\", color=\"C1\")\n",
    "ax2.plot(times_wot[\"pu\"], times_wt[\"cpu_vertexing\"].values / times_wot[\"cpu_vertexing\"].values, \"o--\", color=\"C2\")\n",
    "\n",
    "ax1.legend()\n",
    "ax1.set_title(\"Vertexing CPU performance\")\n",
    "ax2.set_xlabel(\"pile-up []\")\n",
    "ax1.set_ylabel(\"time [s]\")"
   ]
  },
  {
   "cell_type": "code",
   "execution_count": null,
   "id": "ee56cc08-94f5-4c1d-b0c5-c309b56e7663",
   "metadata": {},
   "outputs": [],
   "source": []
  }
 ],
 "metadata": {
  "kernelspec": {
   "display_name": "Python 3 (ipykernel)",
   "language": "python",
   "name": "python3"
  },
  "language_info": {
   "codemirror_mode": {
    "name": "ipython",
    "version": 3
   },
   "file_extension": ".py",
   "mimetype": "text/x-python",
   "name": "python",
   "nbconvert_exporter": "python",
   "pygments_lexer": "ipython3",
   "version": "3.12.2"
  }
 },
 "nbformat": 4,
 "nbformat_minor": 5
}
