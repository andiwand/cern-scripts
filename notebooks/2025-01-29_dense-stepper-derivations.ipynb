{
 "cells": [
  {
   "cell_type": "code",
   "execution_count": null,
   "id": "a4ff0cb4-5a86-4a98-8b9e-e6935673dd38",
   "metadata": {},
   "outputs": [],
   "source": [
    "import sympy as sym"
   ]
  },
  {
   "cell_type": "code",
   "execution_count": null,
   "id": "b79b14b5-eaf0-451b-a1e0-6a36255890f8",
   "metadata": {},
   "outputs": [],
   "source": [
    "m, q, p, l, g, E = sym.symbols(\"m q p l g E\")\n",
    "\n",
    "dtds = sym.sqrt(1 + m**2/p**2)\n",
    "\n",
    "dtds"
   ]
  },
  {
   "cell_type": "code",
   "execution_count": null,
   "id": "30e113ff-1321-41a6-9e7d-3166eae0906f",
   "metadata": {},
   "outputs": [],
   "source": [
    "dpde = sym.sqrt(E**2 - m**2).diff(E)\n",
    "dpde"
   ]
  },
  {
   "cell_type": "code",
   "execution_count": null,
   "id": "3cbfd6c2-1c15-456e-8aaa-4b68fe47f3fd",
   "metadata": {},
   "outputs": [],
   "source": [
    "dpde = E/p\n",
    "dpde"
   ]
  },
  {
   "cell_type": "code",
   "execution_count": null,
   "id": "232a76e8-814c-4ba0-b0fe-09ffc685bbea",
   "metadata": {},
   "outputs": [],
   "source": [
    "(dtds.diff(p) * dpde * (-g)).subs(E, sym.sqrt(m**2 + p**2))"
   ]
  },
  {
   "cell_type": "code",
   "execution_count": null,
   "id": "da2819aa-844c-4f3a-b410-130b193baeac",
   "metadata": {},
   "outputs": [],
   "source": [
    "(g * m**2 / p**3).subs(p, q/l)"
   ]
  },
  {
   "cell_type": "code",
   "execution_count": null,
   "id": "dc819cf3-bcf8-457a-b160-a8219ee88c6a",
   "metadata": {},
   "outputs": [],
   "source": [
    "sym.sqrt(p**2 + m**2).subs(p, q/l).diff(l)"
   ]
  },
  {
   "cell_type": "code",
   "execution_count": null,
   "id": "9a3769e6-c68b-4ee7-8889-c82a308563a9",
   "metadata": {},
   "outputs": [],
   "source": []
  }
 ],
 "metadata": {
  "kernelspec": {
   "display_name": "Python 3 (ipykernel)",
   "language": "python",
   "name": "python3"
  },
  "language_info": {
   "codemirror_mode": {
    "name": "ipython",
    "version": 3
   },
   "file_extension": ".py",
   "mimetype": "text/x-python",
   "name": "python",
   "nbconvert_exporter": "python",
   "pygments_lexer": "ipython3",
   "version": "3.12.7"
  }
 },
 "nbformat": 4,
 "nbformat_minor": 5
}
