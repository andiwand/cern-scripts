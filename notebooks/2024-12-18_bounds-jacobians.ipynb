{
 "cells": [
  {
   "cell_type": "code",
   "execution_count": null,
   "id": "af37ceda-d1f5-4f1b-aba0-e6bd57bcdc2c",
   "metadata": {},
   "outputs": [],
   "source": [
    "import sympy as sym\n",
    "from sympy import Matrix"
   ]
  },
  {
   "cell_type": "markdown",
   "id": "e3f638d2-8d95-4fae-9d41-f1bf07731cda",
   "metadata": {},
   "source": [
    "# polar"
   ]
  },
  {
   "cell_type": "code",
   "execution_count": null,
   "id": "3219c6e9-ca18-4f4d-99fc-9b288bb9333d",
   "metadata": {},
   "outputs": [],
   "source": [
    "r, phi = sym.symbols([\"r\", \"phi\"])\n",
    "x, y = r*sym.cos(phi), r*sym.sin(phi)"
   ]
  },
  {
   "cell_type": "code",
   "execution_count": null,
   "id": "962b6201-688e-453a-8980-a8275986c7fa",
   "metadata": {},
   "outputs": [],
   "source": [
    "J_b2c = Matrix([x, y]).jacobian(Matrix([r, phi]))"
   ]
  },
  {
   "cell_type": "code",
   "execution_count": null,
   "id": "a410fb2f-6b01-4ed7-b360-db6199cb704a",
   "metadata": {},
   "outputs": [],
   "source": [
    "J_b2c"
   ]
  },
  {
   "cell_type": "code",
   "execution_count": null,
   "id": "47af7c43-2314-4550-99db-5db99e236f5b",
   "metadata": {},
   "outputs": [],
   "source": [
    "sym.simplify(J_b2c.inv())"
   ]
  },
  {
   "cell_type": "code",
   "execution_count": null,
   "id": "888be6c5-14ca-455a-9951-b8ec233d7c7b",
   "metadata": {},
   "outputs": [],
   "source": [
    "sym.simplify(J_b2c.T * J_b2c)"
   ]
  },
  {
   "cell_type": "markdown",
   "id": "43b83d2c-aed3-4d93-9cf0-f24a4a40d127",
   "metadata": {},
   "source": [
    "# cone"
   ]
  },
  {
   "cell_type": "code",
   "execution_count": null,
   "id": "e44e4246-ef76-45f3-8012-f3d8fb832fb2",
   "metadata": {},
   "outputs": [],
   "source": [
    "r, phi = sym.symbols([\"r\", \"phi\"])\n",
    "x, y = r*sym.cos(phi), r*sym.sin(phi)"
   ]
  }
 ],
 "metadata": {
  "kernelspec": {
   "display_name": "Python 3 (ipykernel)",
   "language": "python",
   "name": "python3"
  },
  "language_info": {
   "codemirror_mode": {
    "name": "ipython",
    "version": 3
   },
   "file_extension": ".py",
   "mimetype": "text/x-python",
   "name": "python",
   "nbconvert_exporter": "python",
   "pygments_lexer": "ipython3",
   "version": "3.12.7"
  }
 },
 "nbformat": 4,
 "nbformat_minor": 5
}
