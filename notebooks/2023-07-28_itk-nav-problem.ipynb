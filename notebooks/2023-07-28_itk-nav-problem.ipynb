{
 "cells": [
  {
   "cell_type": "code",
   "execution_count": null,
   "id": "00587c85-903b-4b18-a98f-5df383920913",
   "metadata": {},
   "outputs": [],
   "source": [
    "import matplotlib\n",
    "import matplotlib.pyplot as plt\n",
    "import numpy as np\n",
    "import math"
   ]
  },
  {
   "cell_type": "code",
   "execution_count": null,
   "id": "25d5d555-ae5e-4c8f-9a76-ea7eef02be42",
   "metadata": {},
   "outputs": [],
   "source": [
    "pos = np.array([-125.338889, 29.346085, -252.987500])\n",
    "dir = np.array([0.047555, -0.356972, 0.932904])"
   ]
  },
  {
   "cell_type": "code",
   "execution_count": null,
   "id": "f17323f6-4841-461e-ad14-98dc161313f2",
   "metadata": {},
   "outputs": [],
   "source": [
    "arrow_start = pos\n",
    "arrow_end = arrow_start + 100*dir\n",
    "arrow_diff = arrow_end - arrow_start\n",
    "\n",
    "plt.arrow(arrow_start[2], math.hypot(arrow_start[0], arrow_start[1]), arrow_diff[2], math.hypot(arrow_end[0], arrow_end[1])-math.hypot(arrow_start[0], arrow_start[1]), width=1)\n",
    "plt.gca().add_line(matplotlib.lines.Line2D([-247.0500000, 247.0500000], [100.7571611, 100.7571611]))\n",
    "plt.gca().add_line(matplotlib.lines.Line2D([-245.45, 245.45], [35.2394389, 35.2394389]))\n",
    "plt.gca().add_line(matplotlib.lines.Line2D([-300, 300], [0, 0]))\n",
    "plt.show()"
   ]
  },
  {
   "cell_type": "code",
   "execution_count": null,
   "id": "602048fc-cbbd-4532-9b2e-089ab07b51e6",
   "metadata": {},
   "outputs": [],
   "source": []
  }
 ],
 "metadata": {
  "kernelspec": {
   "display_name": "Python 3 (ipykernel)",
   "language": "python",
   "name": "python3"
  },
  "language_info": {
   "codemirror_mode": {
    "name": "ipython",
    "version": 3
   },
   "file_extension": ".py",
   "mimetype": "text/x-python",
   "name": "python",
   "nbconvert_exporter": "python",
   "pygments_lexer": "ipython3",
   "version": "3.11.2"
  }
 },
 "nbformat": 4,
 "nbformat_minor": 5
}
