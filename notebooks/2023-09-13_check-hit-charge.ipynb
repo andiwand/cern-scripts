{
 "cells": [
  {
   "cell_type": "code",
   "execution_count": null,
   "id": "00e70f8b-e458-42e0-8168-eb9697bb42aa",
   "metadata": {},
   "outputs": [],
   "source": [
    "import uproot\n",
    "import numpy as np\n",
    "import pandas as pd\n",
    "import awkward as ak\n",
    "import matplotlib.pyplot as plt"
   ]
  },
  {
   "cell_type": "code",
   "execution_count": null,
   "id": "0c492ef9-ddc6-4647-84e8-63d2f0a5b534",
   "metadata": {},
   "outputs": [],
   "source": [
    "particles = uproot.open(\"/home/andreas/cern/source/acts/acts/git2/physmon-main/particles_initial_ttbar.root\")\n",
    "hits = uproot.open(\"/home/andreas/cern/source/acts/acts/git2/physmon-main/hits_ttbar.root\")\n",
    "\n",
    "particles = ak.to_dataframe(particles[\"particles\"].arrays(library=\"ak\"), how=\"outer\")\n",
    "hits = ak.to_dataframe(hits[\"hits\"].arrays(library=\"ak\"), how=\"outer\")\n",
    "\n",
    "particles, hits"
   ]
  },
  {
   "cell_type": "code",
   "execution_count": null,
   "id": "4706cbed-5dbb-470d-a846-e4ab172f252a",
   "metadata": {},
   "outputs": [],
   "source": [
    "particles[particles[\"particle_id\"].isin(hits[\"particle_id\"].values)][\"q\"].unique()"
   ]
  },
  {
   "cell_type": "code",
   "execution_count": null,
   "id": "fe4cadb3-73fb-4d16-975f-407e9be2fbe1",
   "metadata": {},
   "outputs": [],
   "source": []
  }
 ],
 "metadata": {
  "kernelspec": {
   "display_name": "Python 3 (ipykernel)",
   "language": "python",
   "name": "python3"
  },
  "language_info": {
   "codemirror_mode": {
    "name": "ipython",
    "version": 3
   },
   "file_extension": ".py",
   "mimetype": "text/x-python",
   "name": "python",
   "nbconvert_exporter": "python",
   "pygments_lexer": "ipython3",
   "version": "3.11.4"
  }
 },
 "nbformat": 4,
 "nbformat_minor": 5
}
