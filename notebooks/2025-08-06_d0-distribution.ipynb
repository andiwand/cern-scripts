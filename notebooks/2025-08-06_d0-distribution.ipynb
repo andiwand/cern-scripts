{
 "cells": [
  {
   "cell_type": "code",
   "execution_count": null,
   "id": "2d6f5413-f7b0-4376-9436-c652d32e6d06",
   "metadata": {},
   "outputs": [],
   "source": [
    "import numpy as np\n",
    "import matplotlib.pyplot as plt"
   ]
  },
  {
   "cell_type": "code",
   "execution_count": null,
   "id": "654e7ff4-d8af-4fdc-b02d-46e1c0e916ad",
   "metadata": {},
   "outputs": [],
   "source": [
    "data = np.random.normal(size=10000)\n",
    "plt.hist(np.abs(data))"
   ]
  },
  {
   "cell_type": "code",
   "execution_count": null,
   "id": "0a6b806e-5b16-4174-982f-c40fc8baa6aa",
   "metadata": {},
   "outputs": [],
   "source": []
  }
 ],
 "metadata": {
  "kernelspec": {
   "display_name": "Python 3 (ipykernel)",
   "language": "python",
   "name": "python3"
  },
  "language_info": {
   "codemirror_mode": {
    "name": "ipython",
    "version": 3
   },
   "file_extension": ".py",
   "mimetype": "text/x-python",
   "name": "python",
   "nbconvert_exporter": "python",
   "pygments_lexer": "ipython3",
   "version": "3.12.11"
  }
 },
 "nbformat": 4,
 "nbformat_minor": 5
}
