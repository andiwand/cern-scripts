{
 "cells": [
  {
   "cell_type": "code",
   "execution_count": null,
   "id": "af6adf5c-cbb4-4087-9cd4-c59779f0862b",
   "metadata": {},
   "outputs": [],
   "source": [
    "%matplotlib widget"
   ]
  },
  {
   "cell_type": "code",
   "execution_count": null,
   "id": "5f6bf72c-d52e-467c-81ed-c428e02b927f",
   "metadata": {},
   "outputs": [],
   "source": [
    "from pathlib import Path\n",
    "\n",
    "import uproot\n",
    "import numpy as np\n",
    "import pandas as pd\n",
    "import awkward as ak\n",
    "import matplotlib.pyplot as plt"
   ]
  },
  {
   "cell_type": "code",
   "execution_count": null,
   "id": "4602bff4-65f6-4d1c-83c1-603a63f8bc7f",
   "metadata": {},
   "outputs": [],
   "source": [
    "here_path = Path.cwd()\n",
    "data_path = here_path / \"..\" / \"acts\" / \"ckf-missing-measurements\" / \"output\"\n",
    "\n",
    "assert(here_path.exists())"
   ]
  },
  {
   "cell_type": "code",
   "execution_count": null,
   "id": "2416fa95-4aa7-4485-b470-56536c7f675a",
   "metadata": {},
   "outputs": [],
   "source": [
    "particles = uproot.open(data_path / \"particles_simulation.root\")\n",
    "particles = ak.to_dataframe(particles[\"particles\"].arrays(library=\"ak\"), how=\"outer\")\n",
    "\n",
    "particles"
   ]
  },
  {
   "cell_type": "code",
   "execution_count": null,
   "id": "b9dc6b4a-816a-4d5c-b3f9-8e42c4663412",
   "metadata": {},
   "outputs": [],
   "source": [
    "hits = uproot.open(data_path / \"hits.root\")\n",
    "hits = ak.to_dataframe(hits[\"hits\"].arrays(library=\"ak\"), how=\"outer\")\n",
    "\n",
    "hits"
   ]
  },
  {
   "cell_type": "code",
   "execution_count": null,
   "id": "c9078cb0-b92f-4b30-9d35-9b664f133c6a",
   "metadata": {},
   "outputs": [],
   "source": [
    "measurements = uproot.open(data_path / \"measurements.root\")\n",
    "\n",
    "measurements = pd.concat(\n",
    "    ak.to_dataframe(measurements[f\"vol{vol}\"].arrays(\n",
    "        [\"event_nr\", \"volume_id\", \"layer_id\", \"surface_id\", \"true_loc0\", \"true_loc1\", \"rec_loc0\"] + ([\"rec_loc1\"] if vol < 28 else []),\n",
    "        library=\"ak\",\n",
    "    ), how=\"outer\")\n",
    "    for vol in [16, 17, 18, 23, 24, 25, 28, 29, 30]\n",
    ")\n",
    "\n",
    "measurements"
   ]
  },
  {
   "cell_type": "code",
   "execution_count": null,
   "id": "e36725ed-7063-4812-87cd-641606e92344",
   "metadata": {},
   "outputs": [],
   "source": [
    "tracks = uproot.open(data_path / \"tracksummary_ambi.root\")\n",
    "tracks = ak.to_dataframe(tracks[\"tracksummary\"].arrays([\"event_nr\", \"track_nr\", \"nMeasurements\", \"nHoles\", \"nOutliers\"], library=\"ak\"), how=\"outer\")\n",
    "\n",
    "tracks"
   ]
  },
  {
   "cell_type": "code",
   "execution_count": null,
   "id": "42081ff3-f8cd-4742-ba53-b422d05146c2",
   "metadata": {},
   "outputs": [],
   "source": [
    "trackstates = uproot.open(data_path / \"trackstates_ambi.root\")\n",
    "trackstates = ak.to_dataframe(trackstates[\"trackstates\"].arrays([\"event_nr\", \"volume_id\", \"layer_id\", \"module_id\", \"stateType\", \"t_x\", \"t_y\", \"t_z\", \"g_x_flt\", \"g_y_flt\", \"g_z_flt\", \"eLOC0_prt\", \"eLOC1_prt\", \"res_eLOC0_prt\", \"res_eLOC1_prt\", \"res_ePHI_prt\", \"res_eTHETA_prt\", \"res_eLOC0_smt\", \"res_eLOC1_smt\", \"res_ePHI_smt\", \"res_eTHETA_smt\"], library=\"ak\"), how=\"outer\")\n",
    "\n",
    "trackstates"
   ]
  },
  {
   "cell_type": "code",
   "execution_count": null,
   "id": "b01282a9-0b6a-4ca8-b6f2-cbd5de5cadff",
   "metadata": {},
   "outputs": [],
   "source": [
    "track_particles = pd.merge(\n",
    "    left=tracks.add_prefix(\"track_\"),\n",
    "    right=particles.add_prefix(\"particle_\"),\n",
    "    left_on=\"track_event_nr\",\n",
    "    right_on=\"particle_event_id\",\n",
    ")\n",
    "\n",
    "track_particles"
   ]
  },
  {
   "cell_type": "code",
   "execution_count": null,
   "id": "f93401ef-c0dd-4307-81e2-6d3c3f14efd1",
   "metadata": {},
   "outputs": [],
   "source": [
    "track_particles[\"abs_hit_difference\"] = track_particles[\"particle_number_of_hits\"] - track_particles[\"track_nMeasurements\"]\n",
    "\n",
    "tmp = track_particles[track_particles[\"abs_hit_difference\"] != 0].sort_values(by=\"abs_hit_difference\", ascending=False)\n",
    "\n",
    "print(tmp[\"track_nHoles\"].sum())\n",
    "print(tmp[\"track_nOutliers\"].sum())\n",
    "\n",
    "tmp"
   ]
  },
  {
   "cell_type": "code",
   "execution_count": null,
   "id": "be9de2c6-a937-435c-b1aa-39f34961bb65",
   "metadata": {},
   "outputs": [],
   "source": [
    "event_nr = 3155\n",
    "background = True\n",
    "\n",
    "fig = plt.figure()\n",
    "ax = fig.add_subplot(projection=\"3d\")\n",
    "\n",
    "ax.set_xlabel(\"z\")\n",
    "ax.set_ylabel(\"x\")\n",
    "ax.set_zlabel(\"y\")\n",
    "\n",
    "my_hits = hits[hits[\"event_id\"] == event_nr]\n",
    "my_track = tracks[tracks[\"event_nr\"] == event_nr]\n",
    "my_trackstates = trackstates[trackstates[\"event_nr\"] == event_nr]\n",
    "my_trackstates = my_trackstates[my_trackstates[\"stateType\"] == 0]\n",
    "\n",
    "print(my_hits[[\"volume_id\", \"layer_id\", \"sensitive_id\"]])\n",
    "print(my_trackstates[[\"volume_id\", \"layer_id\", \"module_id\", \"stateType\"]])\n",
    "\n",
    "ax.scatter(my_hits[\"tz\"], my_hits[\"tx\"], my_hits[\"ty\"], alpha=1.0, marker=\"o\", s=50)\n",
    "ax.scatter(my_trackstates[\"g_z_flt\"], my_trackstates[\"g_x_flt\"], my_trackstates[\"g_y_flt\"], alpha=1.0, marker=\"^\", s=100)\n",
    "\n",
    "if background:\n",
    "    random_hits = hits.sample(10000)\n",
    "    ax.scatter(random_hits[\"tz\"], random_hits[\"tx\"], random_hits[\"ty\"], c=\"grey\", alpha=0.3, marker=\".\", s=1)\n",
    "\n",
    "plt.show()"
   ]
  },
  {
   "cell_type": "code",
   "execution_count": null,
   "id": "202837c2-a964-40ce-bb03-27fbeb12cd01",
   "metadata": {},
   "outputs": [],
   "source": [
    "volume = 24\n",
    "layer = 4\n",
    "\n",
    "my_measurements = measurements\n",
    "my_measurements = my_measurements[my_measurements[\"volume_id\"] == volume]\n",
    "my_measurements = my_measurements[my_measurements[\"layer_id\"] == layer] if layer is not None else my_measurements\n",
    "\n",
    "measurements_tracks = pd.merge(\n",
    "    left=tracks.dropna(),\n",
    "    right=my_measurements,\n",
    "    left_on=[\"event_nr\"],\n",
    "    right_on=[\"event_nr\"],\n",
    "    how=\"inner\",\n",
    ")\n",
    "\n",
    "measurements_trackstates = pd.merge(\n",
    "    left=trackstates[trackstates[\"stateType\"] == 0],\n",
    "    right=measurements_tracks,\n",
    "    left_on=[\"event_nr\", \"volume_id\", \"layer_id\", \"module_id\"],\n",
    "    right_on=[\"event_nr\", \"volume_id\", \"layer_id\", \"surface_id\"],\n",
    "    how=\"outer\",\n",
    ")\n",
    "\n",
    "fig = plt.figure(figsize=(10, 4))\n",
    "axs = fig.subplots(1,2)\n",
    "\n",
    "measurement_without_trackstate_mask = measurements_trackstates[\"module_id\"].isna()\n",
    "measurement_without_trackstate = measurements_trackstates[measurement_without_trackstate_mask]\n",
    "\n",
    "axs[0].scatter(my_measurements[\"true_loc0\"], my_measurements[\"true_loc1\"], alpha=0.01, label=\"hits\")\n",
    "axs[0].scatter(measurement_without_trackstate[\"true_loc0\"], measurement_without_trackstate[\"true_loc1\"], alpha=0.5, label=\"not matched hits\")\n",
    "\n",
    "axs[1].scatter(my_measurements[\"rec_loc0\"], my_measurements[\"rec_loc1\"], alpha=0.01, label=\"measurements\")\n",
    "axs[1].scatter(measurement_without_trackstate[\"rec_loc0\"], measurement_without_trackstate[\"rec_loc1\"], alpha=0.5, label=\"not matched measurements\")\n",
    "\n",
    "fig.suptitle(f\"vol={volume} layer={layer}\")\n",
    "axs[0].set_title(\"hits\")\n",
    "axs[1].set_title(\"measurements\")\n",
    "for ax in axs:\n",
    "    ax.set_xlabel(\"local x\")\n",
    "    ax.set_ylabel(\"local y\")\n",
    "    ax.legend()\n",
    "\n",
    "print(f\"measurements {len(my_measurements)} without trackstate {len(measurement_without_trackstate)}\")\n",
    "\n",
    "plt.show()"
   ]
  },
  {
   "cell_type": "code",
   "execution_count": null,
   "id": "186cbdc7-730c-47db-ad22-1c73150f2915",
   "metadata": {},
   "outputs": [],
   "source": [
    "event_nr = 3735\n",
    "volume = 24\n",
    "layer = 2\n",
    "sensor = 693\n",
    "\n",
    "my_measurements = measurements\n",
    "my_measurements = my_measurements[my_measurements[\"event_nr\"] == event_nr]\n",
    "my_measurements = my_measurements[my_measurements[\"volume_id\"] == volume]\n",
    "my_measurements = my_measurements[my_measurements[\"layer_id\"] == layer] if layer is not None else my_measurements\n",
    "my_measurements = my_measurements[my_measurements[\"surface_id\"] == sensor] if sensor is not None else my_measurements\n",
    "#print(my_measurements)\n",
    "#print(my_measurements[[\"true_loc0\", \"true_loc1\"]].values - my_measurements[[\"rec_loc0\", \"rec_loc1\"]].values)\n",
    "\n",
    "my_trackstates = trackstates\n",
    "my_trackstates = my_trackstates[my_trackstates[\"event_nr\"] == event_nr]\n",
    "my_trackstates = my_trackstates[my_trackstates[\"volume_id\"] == volume]\n",
    "my_trackstates = my_trackstates[my_trackstates[\"layer_id\"] == layer] if layer is not None else my_measurements\n",
    "my_trackstates = my_trackstates[my_trackstates[\"module_id\"] == sensor] if sensor is not None else my_measurements\n",
    "#print(my_trackstates)\n",
    "\n",
    "fig = plt.figure()\n",
    "ax = fig.add_subplot()\n",
    "\n",
    "ax.set_title(f\"vol={volume} layer={layer}\")\n",
    "ax.set_xlabel(\"local x\")\n",
    "ax.set_ylabel(\"local y\")\n",
    "\n",
    "ax.scatter(my_measurements[\"true_loc0\"], my_measurements[\"true_loc1\"], label=\"true\")\n",
    "ax.scatter(my_measurements[\"rec_loc0\"], my_measurements[\"rec_loc1\"], label=\"cluster\")\n",
    "ax.scatter(my_trackstates[\"eLOC0_prt\"], my_trackstates[\"eLOC1_prt\"], label=\"track\")\n",
    "\n",
    "ax.legend()\n",
    "\n",
    "plt.show()"
   ]
  },
  {
   "cell_type": "code",
   "execution_count": null,
   "id": "613f409c-1b5a-4a65-b41d-252bea26767a",
   "metadata": {},
   "outputs": [],
   "source": []
  }
 ],
 "metadata": {
  "kernelspec": {
   "display_name": "Python 3 (ipykernel)",
   "language": "python",
   "name": "python3"
  },
  "language_info": {
   "codemirror_mode": {
    "name": "ipython",
    "version": 3
   },
   "file_extension": ".py",
   "mimetype": "text/x-python",
   "name": "python",
   "nbconvert_exporter": "python",
   "pygments_lexer": "ipython3",
   "version": "3.12.11"
  }
 },
 "nbformat": 4,
 "nbformat_minor": 5
}
