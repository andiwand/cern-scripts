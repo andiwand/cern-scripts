{
 "cells": [
  {
   "cell_type": "code",
   "execution_count": null,
   "id": "d1a91519-636f-43e7-bc52-e94ee1cdbe73",
   "metadata": {},
   "outputs": [],
   "source": [
    "%matplotlib widget"
   ]
  },
  {
   "cell_type": "code",
   "execution_count": null,
   "id": "b5017de6-2d4b-4130-8c78-27228f2a1139",
   "metadata": {},
   "outputs": [],
   "source": [
    "from pathlib import Path\n",
    "\n",
    "import uproot\n",
    "import numpy as np\n",
    "import pandas as pd\n",
    "import awkward as ak\n",
    "import matplotlib.pyplot as plt"
   ]
  },
  {
   "cell_type": "code",
   "execution_count": null,
   "id": "eec6e752-103f-42ba-b2d9-e8a32e7c91fb",
   "metadata": {},
   "outputs": [],
   "source": [
    "data_path = Path(\"/Users/andreas/Downloads/run4_athena_vs_acts_mu1GeV\")\n",
    "\n",
    "athena_trks = uproot.open(data_path / \"trk_athena.root\")\n",
    "acts_trks = uproot.open(data_path / \"trk_acts.root\")\n",
    "\n",
    "print(athena_trks[\"TRKTree\"].keys())\n",
    "\n",
    "truth_columns = [\n",
    "    \"event\",\n",
    "\n",
    "    \"truth_n\",\n",
    "    \"truth_charge\",\n",
    "    \"truth_pt\",\n",
    "    \"truth_eta\",\n",
    "    \"truth_theta\",\n",
    "    \"truth_phi\",\n",
    "    \"truth_d0\",\n",
    "    \"truth_z0\",\n",
    "    \"truth_qOverP\",\n",
    "]\n",
    "\n",
    "reco_columns = [\n",
    "    \"event\",\n",
    "\n",
    "    \"track_n\",\n",
    "    \"track_charge\",\n",
    "    \"track_pt\",\n",
    "    \"track_eta\",\n",
    "    \"track_theta\",\n",
    "    \"track_phi\",\n",
    "    \"track_d0\",\n",
    "    \"track_z0\",\n",
    "    \"track_qOverP\",\n",
    "\n",
    "    \"track_pixHits\",\n",
    "    \"track_SCTHits\",\n",
    "    \"track_pixHoles\",\n",
    "    \"track_SCTHoles\",\n",
    "]\n",
    "\n",
    "truth_trks = ak.to_dataframe(athena_trks[\"TRKTree\"].arrays(truth_columns, library=\"ak\"), how=\"outer\")\n",
    "athena_trks = ak.to_dataframe(athena_trks[\"TRKTree\"].arrays(reco_columns, library=\"ak\"), how=\"outer\")\n",
    "acts_trks = ak.to_dataframe(acts_trks[\"TRKTree\"].arrays(reco_columns, library=\"ak\"), how=\"outer\")"
   ]
  },
  {
   "cell_type": "code",
   "execution_count": null,
   "id": "6e61a0b3-fce4-4bd0-92fe-c71af1f94fb3",
   "metadata": {},
   "outputs": [],
   "source": [
    "athena_acts_trks = pd.merge(\n",
    "    athena_trks[athena_trks[\"track_n\"] == 1].set_index(\"event\").add_prefix(\"athena_\"),\n",
    "    acts_trks[acts_trks[\"track_n\"] == 1].set_index(\"event\").add_prefix(\"acts_\"),\n",
    "    how=\"outer\",\n",
    "    left_index=True,\n",
    "    right_index=True,\n",
    ")\n",
    "truth_athena_acts_trks = pd.merge(\n",
    "    truth_trks.set_index(\"event\"),\n",
    "    athena_acts_trks,\n",
    "    how=\"outer\",\n",
    "    left_index=True,\n",
    "    right_index=True,\n",
    ")\n",
    "truth_athena_acts_trks"
   ]
  },
  {
   "cell_type": "code",
   "execution_count": null,
   "id": "18eb35a3-9fd5-46ef-9b74-9394276436ab",
   "metadata": {},
   "outputs": [],
   "source": [
    "acts_trks[acts_trks[\"event\"] == 71069]"
   ]
  },
  {
   "cell_type": "code",
   "execution_count": null,
   "id": "a4b31bcc-fd9d-424c-93fa-1cf48379b395",
   "metadata": {},
   "outputs": [],
   "source": [
    "diff_mask = ~truth_athena_acts_trks[\"athena_track_pt\"].isna() & truth_athena_acts_trks[\"acts_track_pt\"].isna()\n",
    "diff = truth_athena_acts_trks[diff_mask][[\"truth_eta\", \"truth_phi\", \"truth_theta\", \"athena_track_eta\", \"athena_track_pixHoles\", \"athena_track_SCTHoles\", \"acts_track_eta\", \"acts_track_pixHoles\"]]\n",
    "\n",
    "print(diff)\n",
    "print(diff.index.values)\n",
    "print(truth_trks[truth_trks[\"event\"].isin(diff.index.values)].reset_index(names=[\"nr\", None])[[\"nr\", \"event\"]].values)\n",
    "print(truth_trks[truth_trks[\"event\"].isin(diff.index.values)].reset_index(names=[\"nr\", None])[\"nr\"].values)"
   ]
  },
  {
   "cell_type": "code",
   "execution_count": null,
   "id": "620e17aa-0de5-43b1-ad4a-065b47f1b70c",
   "metadata": {},
   "outputs": [],
   "source": [
    "bins = np.linspace(-0.4, 0.4, 100)\n",
    "fig, ax = plt.subplots()\n",
    "ax.hist(athena_trks[\"track_d0\"], bins=bins, histtype=\"step\", label=\"athena\")\n",
    "ax.hist(acts_trks[\"track_d0\"], bins=bins, histtype=\"step\", label=\"acts\")\n",
    "ax.legend();"
   ]
  },
  {
   "cell_type": "code",
   "execution_count": null,
   "id": "bcdf2c0b-7feb-49aa-916d-310ae641d6fa",
   "metadata": {},
   "outputs": [],
   "source": [
    "bins = np.linspace(-150, 150, 100)\n",
    "fig, ax = plt.subplots()\n",
    "ax.hist(athena_trks[\"track_z0\"], bins=bins, histtype=\"step\", label=\"athena\")\n",
    "ax.hist(acts_trks[\"track_z0\"], bins=bins, histtype=\"step\", label=\"acts\")\n",
    "ax.legend();"
   ]
  },
  {
   "cell_type": "code",
   "execution_count": null,
   "id": "6b66a799-1002-4fa1-bed3-28e8c96938d1",
   "metadata": {},
   "outputs": [],
   "source": [
    "bins = np.linspace(-4, 4, 20)\n",
    "fig, ax = plt.subplots()\n",
    "ax.hist(athena_trks[\"track_eta\"], bins=bins, histtype=\"step\", label=\"athena\")\n",
    "ax.hist(acts_trks[\"track_eta\"], bins=bins, histtype=\"step\", label=\"acts\")\n",
    "ax.hist(truth_trks[\"truth_eta\"], bins=bins, histtype=\"step\", label=\"truth\")\n",
    "ax.legend();"
   ]
  },
  {
   "cell_type": "code",
   "execution_count": null,
   "id": "4ce03358-cffd-4294-bece-d05e147e0bbb",
   "metadata": {},
   "outputs": [],
   "source": [
    "bins = np.linspace(0.6, 1.4, 20)\n",
    "fig, ax = plt.subplots()\n",
    "ax.hist(athena_trks[athena_trks[\"track_eta\"] < 2][\"track_pt\"], bins=bins, histtype=\"step\", label=\"athena\")\n",
    "ax.hist(acts_trks[acts_trks[\"track_eta\"] < 2][\"track_pt\"], bins=bins, histtype=\"step\", label=\"acts\")\n",
    "ax.hist(truth_trks[truth_trks[\"truth_eta\"] < 2][\"truth_pt\"], bins=bins, histtype=\"step\", label=\"truth\")\n",
    "ax.legend();"
   ]
  },
  {
   "cell_type": "code",
   "execution_count": null,
   "id": "eba2dc15-fab5-44b4-84ea-31d1fd106b48",
   "metadata": {},
   "outputs": [],
   "source": []
  }
 ],
 "metadata": {
  "kernelspec": {
   "display_name": "Python 3 (ipykernel)",
   "language": "python",
   "name": "python3"
  },
  "language_info": {
   "codemirror_mode": {
    "name": "ipython",
    "version": 3
   },
   "file_extension": ".py",
   "mimetype": "text/x-python",
   "name": "python",
   "nbconvert_exporter": "python",
   "pygments_lexer": "ipython3",
   "version": "3.12.7"
  }
 },
 "nbformat": 4,
 "nbformat_minor": 5
}
