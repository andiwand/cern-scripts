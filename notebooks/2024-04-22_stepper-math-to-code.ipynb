{
 "cells": [
  {
   "cell_type": "code",
   "execution_count": null,
   "id": "50fb2b24-7e8c-4556-bec1-32de8ff9f2fc",
   "metadata": {},
   "outputs": [],
   "source": [
    "from collections import namedtuple\n",
    "\n",
    "import sympy as sym\n",
    "from sympy import Symbol, symbols, Matrix, MatrixSymbol, Function\n",
    "from sympy.utilities.codegen import codegen\n",
    "from sympy.utilities.lambdify import implemented_function\n",
    "from sympy.utilities.iterables import numbered_symbols\n",
    "from sympy.codegen.ast import Assignment, FunctionDefinition\n",
    "from sympy.printing.cxx import CXX11CodePrinter\n",
    "from sympy.codegen.rewriting import create_expand_pow_optimization"
   ]
  },
  {
   "cell_type": "code",
   "execution_count": null,
   "id": "d7b579a3-2e93-4cd9-85dc-f17a39038cb7",
   "metadata": {},
   "outputs": [],
   "source": [
    "NamedExpr = namedtuple(\"NamedExpr\", [\"name\", \"expr\"])\n",
    "\n",
    "def name_expr(expr, name):\n",
    "    if hasattr(expr, \"shape\"):\n",
    "        s = sym.MatrixSymbol(name, *expr.shape)\n",
    "    else:\n",
    "        s = Symbol(name)\n",
    "    return NamedExpr(s, expr)"
   ]
  },
  {
   "cell_type": "code",
   "execution_count": null,
   "id": "ef123e64-b714-497d-b6fa-8aa051bc78f5",
   "metadata": {},
   "outputs": [],
   "source": [
    "# lambda for q/p\n",
    "l = Symbol('lambda')\n",
    "\n",
    "# h for step length\n",
    "h = Symbol('h')\n",
    "\n",
    "# p for position\n",
    "p = MatrixSymbol('p', 3, 1)\n",
    "\n",
    "# d for direction\n",
    "d = MatrixSymbol('d', 3, 1)"
   ]
  },
  {
   "cell_type": "code",
   "execution_count": null,
   "id": "f3f331bb-d2e6-4fce-94b2-d1044693b283",
   "metadata": {},
   "outputs": [],
   "source": [
    "B1 = MatrixSymbol('B1', 3, 1)\n",
    "B2 = MatrixSymbol('B2', 3, 1)\n",
    "B3 = MatrixSymbol('B3', 3, 1)\n",
    "\n",
    "k1 = name_expr(l * d.as_explicit().cross(B1), \"k1\")\n",
    "p2 = name_expr(p + h/2 * d + h**2/8 * k1.name, \"p2\")\n",
    "\n",
    "k2 = name_expr(l * (d + h/2 * k1.name).as_explicit().cross(B2), \"k2\")\n",
    "k3 = name_expr(l * (d + h/2 * k2.name).as_explicit().cross(B2), \"k3\")\n",
    "p3 = name_expr(p + h * d + h**2/2 * k3.name, \"p3\")\n",
    "\n",
    "k4 = name_expr(l * (d + h * k3.name).as_explicit().cross(B3), \"k4\")\n",
    "\n",
    "err = name_expr(h**2 * (k1.name - k2.name - k3.name + k4.name).as_explicit().norm(1), \"err\")"
   ]
  },
  {
   "cell_type": "code",
   "execution_count": null,
   "id": "46568d8d-ecc7-455e-b328-ba44e3e58256",
   "metadata": {},
   "outputs": [],
   "source": [
    "# code gen"
   ]
  },
  {
   "cell_type": "code",
   "execution_count": null,
   "id": "e366b5c1-1544-497f-ba25-7190d7506b9c",
   "metadata": {},
   "outputs": [],
   "source": [
    "cxx_printer = CXX11CodePrinter()"
   ]
  },
  {
   "cell_type": "code",
   "execution_count": null,
   "id": "b5541332-73ff-405d-bcf2-0f2dbbd015a2",
   "metadata": {},
   "outputs": [],
   "source": [
    "def my_function_print(printer, name, inputs, output_exprs):\n",
    "    lines = []\n",
    "\n",
    "    def input_param(input):\n",
    "        if isinstance(input, MatrixSymbol):\n",
    "            return f\"const T* {input.name}\"\n",
    "        return f\"const T {input.name}\"\n",
    "    def output_param(name, expr):\n",
    "        return f\"T* {name}\"\n",
    "\n",
    "    params = [input_param(input) for input in inputs] + [output_param(name, expr) for name, expr in output_exprs]\n",
    "    head = f\"template<typename T> void {name}({\", \".join(params)}) {{\"\n",
    "\n",
    "    lines.append(head)\n",
    "\n",
    "    names = [i[0] for i in output_exprs]\n",
    "    expr = [i[1] for i in output_exprs]\n",
    "    sub_exprs, simp_exprs = sym.cse(expr)\n",
    "\n",
    "    for var, expr in sub_exprs:\n",
    "        if hasattr(expr, \"shape\"):\n",
    "            lhs = sym.MatrixSymbol(f'{var}', *expr.shape)\n",
    "            code = printer.doprint(Assignment(lhs, expr))\n",
    "            lines.extend(['  const auto ' + l for l in code.split('\\n')])\n",
    "        else:\n",
    "            lhs = sym.Symbol(f'{var}')\n",
    "            code = printer.doprint(Assignment(lhs, expr))\n",
    "            lines.extend(['  const auto ' + l for l in code.split('\\n')])\n",
    "\n",
    "    for (name, expr) in zip (names, simp_exprs):\n",
    "        if hasattr(expr, \"shape\"):\n",
    "            lhs = sym.MatrixSymbol(f'{name}', *expr.shape)\n",
    "            code = printer.doprint(Assignment(lhs, expr))\n",
    "            lines.extend(['  ' + l for l in code.split('\\n')])\n",
    "        else:\n",
    "            lhs = sym.Symbol(f'{name}')\n",
    "            code = printer.doprint(Assignment(lhs, expr))\n",
    "            lines.extend(['  *' + l for l in code.split('\\n')])\n",
    "\n",
    "    lines.append('}')\n",
    "\n",
    "    return '\\n'.join(lines)"
   ]
  },
  {
   "cell_type": "code",
   "execution_count": null,
   "id": "5e644e9c-c1ea-42db-9099-a27ce68e1605",
   "metadata": {},
   "outputs": [],
   "source": []
  },
  {
   "cell_type": "code",
   "execution_count": null,
   "id": "8880575a-1619-4d43-883a-f260e6c6e740",
   "metadata": {},
   "outputs": [],
   "source": [
    "def order_exprs(name_exprs, iter=100):\n",
    "    all_expr_names = set().union(name for name, _ in name_exprs)\n",
    "    all_expr_symbols = set().union(*[expr.free_symbols for _, expr in name_exprs])\n",
    "    inputs = all_expr_symbols - all_expr_names\n",
    "\n",
    "    order = {}\n",
    "\n",
    "    order.update({i: 0 for i in inputs})\n",
    "\n",
    "    for _ in range(iter):\n",
    "        for name, expr in name_exprs:\n",
    "            symbols_order = [order.get(s, None) for s in expr.free_symbols]\n",
    "            if None in symbols_order:\n",
    "                continue\n",
    "            order[name] = max(symbols_order) + 1\n",
    "\n",
    "    if len(order) < len(inputs) + len(name_exprs):\n",
    "        print(list(order.keys()))\n",
    "        print(inputs)\n",
    "        print([name for name, expr in name_exprs])\n",
    "        raise RuntimeError(\"did not finish\")\n",
    "\n",
    "    return sorted(\n",
    "        sorted(\n",
    "            sorted(name_exprs, key=lambda n_e: len(n_e[1].args)),\n",
    "            key=lambda n_e: len(n_e[1].free_symbols)\n",
    "        ),\n",
    "        key=lambda n_e: order[n_e[0]]\n",
    "    )"
   ]
  },
  {
   "cell_type": "code",
   "execution_count": null,
   "id": "58d63369-3ea7-41e1-a515-9fb12d174a56",
   "metadata": {},
   "outputs": [],
   "source": [
    "def my_cse(name_exprs, iter=2):\n",
    "    result_name_exprs = name_exprs\n",
    "\n",
    "    sub_symbols = numbered_symbols()\n",
    "\n",
    "    for _ in range(iter):\n",
    "        names = [x[0] for x in result_name_exprs]\n",
    "        exprs = [x[1] for x in result_name_exprs]\n",
    "\n",
    "        sub_exprs, simp_exprs = sym.cse(exprs, symbols=sub_symbols)\n",
    "        if len(sub_exprs) == 0:\n",
    "            break\n",
    "        result_name_exprs = []\n",
    "        result_name_exprs.extend(sub_exprs)\n",
    "        result_name_exprs.extend(zip(names, simp_exprs))\n",
    "\n",
    "    return result_name_exprs"
   ]
  },
  {
   "cell_type": "code",
   "execution_count": null,
   "id": "37ccaf9d-8c9d-4318-af2c-616c7203b063",
   "metadata": {},
   "outputs": [],
   "source": [
    "def my_function_print_2(printer, name, inputs, name_exprs, outputs):\n",
    "    def input_param(input):\n",
    "        if isinstance(input, MatrixSymbol):\n",
    "            return f\"const T* {input.name}\"\n",
    "        return f\"const T {input.name}\"\n",
    "    def output_param(name):\n",
    "        return f\"T* {name}\"\n",
    "    def print_assign(var, expr):\n",
    "        if isinstance(var, Symbol):\n",
    "            lhs = var\n",
    "        elif hasattr(expr, \"shape\"):\n",
    "            lhs = sym.MatrixSymbol(var, *expr.shape)\n",
    "        else:\n",
    "            lhs = sym.Symbol(var)\n",
    "        code = printer.doprint(Assignment(lhs, expr))\n",
    "        return code\n",
    "\n",
    "    all_name_exprs = my_cse(name_exprs)\n",
    "    all_name_exprs = order_exprs(all_name_exprs)\n",
    "\n",
    "    lines = []\n",
    "\n",
    "    params = [input_param(input) for input in inputs] + [output_param(output) for output in outputs]\n",
    "    head = f\"template<typename T> void {name}({\", \".join(params)}) {{\"\n",
    "\n",
    "    lines.append(head)\n",
    "\n",
    "    for var, expr in all_name_exprs:\n",
    "        code = print_assign(var, expr)\n",
    "        if var not in outputs:\n",
    "            code = print_assign(var, expr)\n",
    "            if hasattr(expr, \"shape\"):\n",
    "                lines.append(f\"  T {var}[{expr.shape[0]}];\")\n",
    "                lines.extend(['  ' + l for l in code.split('\\n')])\n",
    "            else:\n",
    "                lines.extend(['  const auto ' + l for l in code.split('\\n')])\n",
    "        else:\n",
    "            code = print_assign(var, expr)\n",
    "            if hasattr(expr, \"shape\"):\n",
    "                lines.extend(['  ' + l for l in code.split('\\n')])\n",
    "            else:\n",
    "                lines.extend(['  *' + l for l in code.split('\\n')])\n",
    "\n",
    "    lines.append('}')\n",
    "\n",
    "    return '\\n'.join(lines)"
   ]
  },
  {
   "cell_type": "code",
   "execution_count": null,
   "id": "77f840f2-19ea-410f-9b6b-0aca17cfe7a5",
   "metadata": {},
   "outputs": [],
   "source": [
    "# all in one"
   ]
  },
  {
   "cell_type": "code",
   "execution_count": null,
   "id": "ed807672-ca27-4dd4-ae8e-08393e18c615",
   "metadata": {},
   "outputs": [],
   "source": [
    "print(my_function_print_2(cxx_printer, \"rk4\", [p, d, h, l], [k1, p2, k2, k3, p3, k4, err], [k1.name, k2.name, k3.name, k4.name, err.name]))"
   ]
  },
  {
   "cell_type": "code",
   "execution_count": null,
   "id": "f2e8aac0-8597-482e-867d-50b9906746a4",
   "metadata": {},
   "outputs": [],
   "source": [
    "# step by step"
   ]
  },
  {
   "cell_type": "code",
   "execution_count": null,
   "id": "7a841fbc-d5da-4cd1-9d1c-f1e0ece97e90",
   "metadata": {},
   "outputs": [],
   "source": [
    "B = MatrixSymbol('B', 3, 1)\n",
    "k1 = l * d.as_explicit().cross(B)\n",
    "\n",
    "print(my_function_print(cxx_printer, \"rk4_k1\", [d, l, B], [(\"k1\", k1)]))\n",
    "\n",
    "k1 = MatrixSymbol('k1', 3, 1)\n",
    "p2 = p + h/2 * d + h**2/8 * k1\n",
    "print(my_function_print(cxx_printer, \"rk4_p2\", [p, d, h, k1], [(\"p2\", p2)]))"
   ]
  },
  {
   "cell_type": "code",
   "execution_count": null,
   "id": "5d5e047d-874a-4cf7-bbdb-f5e49efed3fa",
   "metadata": {},
   "outputs": [],
   "source": [
    "B = MatrixSymbol('B', 3, 1)\n",
    "k1 = MatrixSymbol('k1', 3, 1)\n",
    "k2 = l * (d + h/2 * k1).as_explicit().cross(B)\n",
    "\n",
    "print(my_function_print(cxx_printer, \"rk4_k2\", [d, h, l, B, k1], [(\"k2\", k2)]))"
   ]
  },
  {
   "cell_type": "code",
   "execution_count": null,
   "id": "fc12e03f-9401-428a-8b68-69213a9465e5",
   "metadata": {},
   "outputs": [],
   "source": [
    "B = MatrixSymbol('B', 3, 1)\n",
    "k2 = MatrixSymbol('k2', 3, 1)\n",
    "k3 = l * (d + h/2 * k2).as_explicit().cross(B)\n",
    "\n",
    "print(my_function_print(cxx_printer, \"rk4_k3\", [d, h, l, B, k2], [(\"k3\", k3)]))\n",
    "\n",
    "k3 = MatrixSymbol('k3', 3, 1)\n",
    "p3 = p + h * d + h**2/2 * k3\n",
    "print(my_function_print(cxx_printer, \"rk4_p3\", [p, d, h, k3], [(\"p3\", p3)]))"
   ]
  },
  {
   "cell_type": "code",
   "execution_count": null,
   "id": "2b9c3572-e931-4662-b6ff-e343646171a3",
   "metadata": {},
   "outputs": [],
   "source": [
    "B = MatrixSymbol('B', 3, 1)\n",
    "k3 = MatrixSymbol('k3', 3, 1)\n",
    "k4 = l * (d + h * k3).as_explicit().cross(B)\n",
    "\n",
    "print(my_function_print(cxx_printer, \"rk4_k4\", [d, h, l, B, k3], [(\"k4\", k4)]))"
   ]
  },
  {
   "cell_type": "code",
   "execution_count": null,
   "id": "829d8746-41e4-453c-9ba0-8d0049624276",
   "metadata": {},
   "outputs": [],
   "source": [
    "k1 = MatrixSymbol('k1', 3, 1)\n",
    "k2 = MatrixSymbol('k2', 3, 1)\n",
    "k3 = MatrixSymbol('k3', 3, 1)\n",
    "k4 = MatrixSymbol('k4', 3, 1)\n",
    "\n",
    "err = h**2 * (k1 - k2 - k3 + k4).as_explicit().norm(1)\n",
    "\n",
    "print(my_function_print(cxx_printer, \"rk4_err\", [h, k1, k2, k3, k4], [(\"err\", err)]))"
   ]
  },
  {
   "cell_type": "code",
   "execution_count": null,
   "id": "9411ed68-2bd3-4d2a-9470-9ec9598a0f0d",
   "metadata": {},
   "outputs": [],
   "source": [
    "k1 = MatrixSymbol('k1', 3, 1)\n",
    "k2 = MatrixSymbol('k2', 3, 1)\n",
    "k3 = MatrixSymbol('k3', 3, 1)\n",
    "k4 = MatrixSymbol('k4', 3, 1)\n",
    "\n",
    "new_p = p + h * d + h**2/6 * (k1 + k2 + k3)\n",
    "new_d_tmp = d + h/6 * (k1 + 2 * (k2 + k3) + k4)\n",
    "new_d = new_d_tmp / new_d_tmp.as_explicit().norm()\n",
    "\n",
    "print(my_function_print(cxx_printer, \"rk4_fin\", [p, d, h, k1, k2, k3, k4], [(\"new_p\", new_p), (\"new_d\", new_d)]))"
   ]
  },
  {
   "cell_type": "code",
   "execution_count": null,
   "id": "323de1a6-c662-40c0-8fce-11a613fca0b8",
   "metadata": {},
   "outputs": [],
   "source": []
  }
 ],
 "metadata": {
  "kernelspec": {
   "display_name": "Python 3 (ipykernel)",
   "language": "python",
   "name": "python3"
  },
  "language_info": {
   "codemirror_mode": {
    "name": "ipython",
    "version": 3
   },
   "file_extension": ".py",
   "mimetype": "text/x-python",
   "name": "python",
   "nbconvert_exporter": "python",
   "pygments_lexer": "ipython3",
   "version": "3.12.2"
  }
 },
 "nbformat": 4,
 "nbformat_minor": 5
}
