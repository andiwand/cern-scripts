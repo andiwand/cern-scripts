{
 "cells": [
  {
   "cell_type": "code",
   "execution_count": null,
   "id": "ac53a319-734d-4cb9-8494-827e0016a14a",
   "metadata": {},
   "outputs": [],
   "source": [
    "import pandas as pd\n",
    "import matplotlib.pyplot as plt"
   ]
  },
  {
   "cell_type": "code",
   "execution_count": null,
   "id": "0ec51880-0b76-4614-ba31-81d729055508",
   "metadata": {},
   "outputs": [],
   "source": [
    "a = pd.read_csv(\"/Users/andreas/cern/scripts/tmp_perf_main/times.csv\");\n",
    "b = pd.read_csv(\"/Users/andreas/cern/scripts/tmp_perf_changed/times.csv\");"
   ]
  },
  {
   "cell_type": "code",
   "execution_count": null,
   "id": "8577158c-c65c-4e1b-bb30-9ff025c0ceae",
   "metadata": {},
   "outputs": [],
   "source": [
    "range = [min(a[\"fatras\"].min(),b[\"fatras\"].min()), max(a[\"fatras\"].max(),b[\"fatras\"].max())]\n",
    "plt.hist(a[\"fatras\"], bins=10, range=range, histtype=\"step\", label=\"main\");\n",
    "plt.hist(b[\"fatras\"], bins=10, range=range, histtype=\"step\", label=\"changed\");\n",
    "plt.title(\"fatras\");\n",
    "plt.xlabel(\"time [s]\");\n",
    "plt.ylabel(\"au\");\n",
    "plt.legend();\n",
    "\n",
    "print(b[\"fatras\"].mean() / a[\"fatras\"].mean())"
   ]
  },
  {
   "cell_type": "code",
   "execution_count": null,
   "id": "a7fcecc2-4e65-44dc-a2ca-4987c8bb0670",
   "metadata": {},
   "outputs": [],
   "source": [
    "range = [min(a[\"ckf\"].min(),b[\"ckf\"].min()), max(a[\"ckf\"].max(),b[\"ckf\"].max())]\n",
    "plt.hist(a[\"ckf\"], bins=10, range=range, histtype=\"step\", label=\"main\");\n",
    "plt.hist(b[\"ckf\"], bins=10, range=range, histtype=\"step\", label=\"changed\");\n",
    "plt.title(\"ckf\");\n",
    "plt.xlabel(\"time [s]\");\n",
    "plt.ylabel(\"au\");\n",
    "plt.legend();\n",
    "\n",
    "print(b[\"ckf\"].mean() / a[\"ckf\"].mean())"
   ]
  },
  {
   "cell_type": "code",
   "execution_count": null,
   "id": "ba481b71-9f17-46b9-b159-4b6cfaa20944",
   "metadata": {},
   "outputs": [],
   "source": []
  }
 ],
 "metadata": {
  "kernelspec": {
   "display_name": "Python 3 (ipykernel)",
   "language": "python",
   "name": "python3"
  },
  "language_info": {
   "codemirror_mode": {
    "name": "ipython",
    "version": 3
   },
   "file_extension": ".py",
   "mimetype": "text/x-python",
   "name": "python",
   "nbconvert_exporter": "python",
   "pygments_lexer": "ipython3",
   "version": "3.12.1"
  }
 },
 "nbformat": 4,
 "nbformat_minor": 5
}
