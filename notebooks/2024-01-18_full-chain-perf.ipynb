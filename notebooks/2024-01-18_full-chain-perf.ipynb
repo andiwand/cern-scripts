{
 "cells": [
  {
   "cell_type": "code",
   "execution_count": null,
   "id": "9b3c4a0f-af4b-424b-a10b-750d8e12aeb8",
   "metadata": {},
   "outputs": [],
   "source": [
    "from pathlib import Path\n",
    "import pandas as pd\n",
    "import numpy as np\n",
    "import matplotlib.pyplot as plt"
   ]
  },
  {
   "cell_type": "code",
   "execution_count": null,
   "id": "0bcd8cce-b4cf-4865-9836-befe9134067c",
   "metadata": {},
   "outputs": [],
   "source": [
    "main_dir = Path(\"/Users/andreas/cern/scripts/acts/perf/ckf/results_main\")\n",
    "changed_dir = Path(\"/Users/andreas/cern/scripts/acts/perf/ckf/results_changed\")\n",
    "\n",
    "main_dir = Path(\"/Users/andreas/cern/scripts/acts/perf/seeding/results_main\")\n",
    "changed_dir = Path(\"/Users/andreas/cern/scripts/acts/perf/seeding/results_changed\")\n",
    "\n",
    "#main_dir = Path(\"/Users/andreas/Downloads/results_main\")\n",
    "#changed_dir = Path(\"/Users/andreas/Downloads/results_changed\")\n",
    "\n",
    "sim_reco_label = \"\"\"\n",
    "ODD Fatras\n",
    "ttbar PU 200\n",
    "Default seeding\n",
    "\"\"\""
   ]
  },
  {
   "cell_type": "code",
   "execution_count": null,
   "id": "0ec51880-0b76-4614-ba31-81d729055508",
   "metadata": {},
   "outputs": [],
   "source": [
    "main = pd.read_csv(main_dir / \"times.csv\")\n",
    "changed = pd.read_csv(changed_dir / \"times.csv\")"
   ]
  },
  {
   "cell_type": "code",
   "execution_count": null,
   "id": "be9921cd-0ad2-4c90-a361-2ba291312ce9",
   "metadata": {},
   "outputs": [],
   "source": [
    "range = [min(main[\"seeding\"].min(),changed[\"seeding\"].min()), max(main[\"seeding\"].max(),changed[\"seeding\"].max())]\n",
    "plt.hist(main[\"seeding\"], bins=10, range=range, histtype=\"step\", label=\"main\")\n",
    "plt.hist(changed[\"seeding\"], bins=10, range=range, histtype=\"step\", label=\"changed\")\n",
    "plt.title(\"seeding\")\n",
    "plt.xlabel(\"time [s]\")\n",
    "plt.ylabel(\"au\")\n",
    "plt.legend()\n",
    "\n",
    "print(sim_reco_label)\n",
    "print(\"speedup %.3f\" % (main[\"seeding\"].mean() / changed[\"seeding\"].mean()))"
   ]
  },
  {
   "cell_type": "code",
   "execution_count": null,
   "id": "a7fcecc2-4e65-44dc-a2ca-4987c8bb0670",
   "metadata": {},
   "outputs": [],
   "source": [
    "range = [min(main[\"ckf\"].min(),changed[\"ckf\"].min()), max(main[\"ckf\"].max(),changed[\"ckf\"].max())]\n",
    "plt.hist(main[\"ckf\"], bins=10, range=range, histtype=\"step\", label=\"main\")\n",
    "plt.hist(changed[\"ckf\"], bins=10, range=range, histtype=\"step\", label=\"changed\")\n",
    "plt.title(\"ckf\")\n",
    "plt.xlabel(\"time [s]\")\n",
    "plt.ylabel(\"au\")\n",
    "plt.legend()\n",
    "\n",
    "print(sim_reco_label)\n",
    "print(\"speedup %.3f\" % (main[\"ckf\"].mean() / changed[\"ckf\"].mean()))"
   ]
  },
  {
   "cell_type": "code",
   "execution_count": null,
   "id": "8577158c-c65c-4e1b-bb30-9ff025c0ceae",
   "metadata": {},
   "outputs": [],
   "source": [
    "range = [min(main[\"fatras\"].min(),changed[\"fatras\"].min()), max(main[\"fatras\"].max(),changed[\"fatras\"].max())]\n",
    "plt.hist(main[\"fatras\"], bins=10, range=range, histtype=\"step\", label=\"main\")\n",
    "plt.hist(changed[\"fatras\"], bins=10, range=range, histtype=\"step\", label=\"changed\")\n",
    "plt.title(\"fatras\")\n",
    "plt.xlabel(\"time [s]\")\n",
    "plt.ylabel(\"au\")\n",
    "plt.legend()\n",
    "\n",
    "print(sim_reco_label)\n",
    "print(\"speedup %.3f\" % (main[\"fatras\"].mean() / changed[\"fatras\"].mean()))"
   ]
  },
  {
   "cell_type": "code",
   "execution_count": null,
   "id": "e3ae2a22-0e30-485a-9fe2-4a788d5e7568",
   "metadata": {},
   "outputs": [],
   "source": [
    "main_mem = pd.read_csv(main_dir / \"spyral.csv\", skiprows=2)\n",
    "changed_mem = pd.read_csv(changed_dir / \"spyral.csv\", skiprows=2)"
   ]
  },
  {
   "cell_type": "code",
   "execution_count": null,
   "id": "95515b3d-53a1-4128-93be-d7725cabed20",
   "metadata": {},
   "outputs": [],
   "source": [
    "plt.plot(main_mem[\"time\"], main_mem[\"rss\"], label=\"main\")\n",
    "plt.plot(changed_mem[\"time\"], changed_mem[\"rss\"], label=\"changed\")\n",
    "plt.legend();"
   ]
  },
  {
   "cell_type": "code",
   "execution_count": null,
   "id": "14092a56-ae65-4df0-8800-2d107a27673d",
   "metadata": {},
   "outputs": [],
   "source": []
  }
 ],
 "metadata": {
  "kernelspec": {
   "display_name": "Python 3 (ipykernel)",
   "language": "python",
   "name": "python3"
  },
  "language_info": {
   "codemirror_mode": {
    "name": "ipython",
    "version": 3
   },
   "file_extension": ".py",
   "mimetype": "text/x-python",
   "name": "python",
   "nbconvert_exporter": "python",
   "pygments_lexer": "ipython3",
   "version": "3.12.11"
  }
 },
 "nbformat": 4,
 "nbformat_minor": 5
}
