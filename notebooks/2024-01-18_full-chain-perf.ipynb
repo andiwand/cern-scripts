{
 "cells": [
  {
   "cell_type": "code",
   "execution_count": null,
   "id": "ac53a319-734d-4cb9-8494-827e0016a14a",
   "metadata": {},
   "outputs": [],
   "source": [
    "import pandas as pd\n",
    "import matplotlib.pyplot as plt"
   ]
  },
  {
   "cell_type": "code",
   "execution_count": null,
   "id": "0ec51880-0b76-4614-ba31-81d729055508",
   "metadata": {},
   "outputs": [],
   "source": [
    "main = pd.read_csv(\"/Users/andreas/cern/scripts/acts/perf/results_main/times.csv\")\n",
    "changed = pd.read_csv(\"/Users/andreas/cern/scripts/acts/perf/results_changed/times.csv\")\n",
    "\n",
    "sim_reco_label = \"\"\"\n",
    "ODD Fatras\n",
    "ttbar PU 200\n",
    "Default seeding\n",
    "\"\"\""
   ]
  },
  {
   "cell_type": "code",
   "execution_count": null,
   "id": "8577158c-c65c-4e1b-bb30-9ff025c0ceae",
   "metadata": {},
   "outputs": [],
   "source": [
    "range = [min(main[\"fatras\"].min(),changed[\"fatras\"].min()), max(main[\"fatras\"].max(),changed[\"fatras\"].max())]\n",
    "plt.hist(main[\"fatras\"], bins=10, range=range, histtype=\"step\", label=\"main\")\n",
    "plt.hist(changed[\"fatras\"], bins=10, range=range, histtype=\"step\", label=\"changed\")\n",
    "plt.title(\"fatras\")\n",
    "plt.xlabel(\"time [s]\")\n",
    "plt.ylabel(\"au\")\n",
    "plt.legend()\n",
    "\n",
    "print(sim_reco_label)\n",
    "print(\"speedup %.3f\" % (main[\"fatras\"].mean() / changed[\"fatras\"].mean()))"
   ]
  },
  {
   "cell_type": "code",
   "execution_count": null,
   "id": "a7fcecc2-4e65-44dc-a2ca-4987c8bb0670",
   "metadata": {},
   "outputs": [],
   "source": [
    "range = [min(main[\"ckf\"].min(),changed[\"ckf\"].min()), max(main[\"ckf\"].max(),changed[\"ckf\"].max())]\n",
    "plt.hist(main[\"ckf\"], bins=10, range=range, histtype=\"step\", label=\"main\")\n",
    "plt.hist(changed[\"ckf\"], bins=10, range=range, histtype=\"step\", label=\"changed\")\n",
    "plt.title(\"ckf\")\n",
    "plt.xlabel(\"time [s]\")\n",
    "plt.ylabel(\"au\")\n",
    "plt.legend()\n",
    "\n",
    "print(sim_reco_label)\n",
    "print(\"speedup %.3f\" % (main[\"ckf\"].mean() / changed[\"ckf\"].mean()))"
   ]
  },
  {
   "cell_type": "code",
   "execution_count": null,
   "id": "e3ae2a22-0e30-485a-9fe2-4a788d5e7568",
   "metadata": {},
   "outputs": [],
   "source": []
  }
 ],
 "metadata": {
  "kernelspec": {
   "display_name": "Python 3 (ipykernel)",
   "language": "python",
   "name": "python3"
  },
  "language_info": {
   "codemirror_mode": {
    "name": "ipython",
    "version": 3
   },
   "file_extension": ".py",
   "mimetype": "text/x-python",
   "name": "python",
   "nbconvert_exporter": "python",
   "pygments_lexer": "ipython3",
   "version": "3.12.2"
  }
 },
 "nbformat": 4,
 "nbformat_minor": 5
}
