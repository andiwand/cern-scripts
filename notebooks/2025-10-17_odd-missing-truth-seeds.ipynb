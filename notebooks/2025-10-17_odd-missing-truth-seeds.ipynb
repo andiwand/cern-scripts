{
 "cells": [
  {
   "cell_type": "code",
   "execution_count": null,
   "id": "686f9dc6-bae3-42b1-9d0f-bb89d7da92be",
   "metadata": {},
   "outputs": [],
   "source": [
    "%matplotlib widget"
   ]
  },
  {
   "cell_type": "code",
   "execution_count": null,
   "id": "c9d15675-12c9-461f-9721-498e4d14923d",
   "metadata": {},
   "outputs": [],
   "source": [
    "from pathlib import Path\n",
    "import numpy as np\n",
    "import matplotlib.pyplot as plt\n",
    "import awkward as ak\n",
    "import uproot"
   ]
  },
  {
   "cell_type": "code",
   "execution_count": null,
   "id": "c5d8972a-41ca-4ab7-bc1f-4cdab229a389",
   "metadata": {},
   "outputs": [],
   "source": [
    "data_dir = Path(\"/Users/andreas/cern/source/acts/acts/dev3/odd_output\").resolve()"
   ]
  },
  {
   "cell_type": "code",
   "execution_count": null,
   "id": "55e32bf6-a472-4a31-879f-e9ccadf370d7",
   "metadata": {},
   "outputs": [],
   "source": [
    "particles = uproot.open(data_dir / \"particles.root\")\n",
    "particles = ak.to_dataframe(particles[\"particles\"].arrays(library=\"ak\"), how=\"outer\")\n",
    "\n",
    "particles"
   ]
  },
  {
   "cell_type": "code",
   "execution_count": null,
   "id": "8b133ac8-d10d-45ae-8c1c-ac27e6e4ef96",
   "metadata": {},
   "outputs": [],
   "source": [
    "hits = uproot.open(data_dir / \"hits.root\")\n",
    "hits = ak.to_dataframe(hits[\"hits\"].arrays([\"event_id\", \"tx\", \"ty\", \"tz\"], library=\"ak\"), how=\"outer\")\n",
    "hits[\"tr\"] = np.linalg.norm(np.vstack([hits[\"tx\"], hits[\"ty\"]]), axis=0)\n",
    "\n",
    "hits"
   ]
  },
  {
   "cell_type": "code",
   "execution_count": null,
   "id": "34cd8d9d-7694-4b68-91f8-518cdd73906d",
   "metadata": {},
   "outputs": [],
   "source": [
    "params = uproot.open(data_dir / \"estimatedparams.root\")\n",
    "params = ak.to_dataframe(params[\"estimatedparams\"].arrays([\"event_nr\", \"nMajorityHits\"], library=\"ak\"), how=\"outer\")\n",
    "\n",
    "params"
   ]
  },
  {
   "cell_type": "code",
   "execution_count": null,
   "id": "c2915e9a-b349-4d63-b884-bcfcb1bc9665",
   "metadata": {},
   "outputs": [],
   "source": [
    "events_without_tracks = np.array(list(set(particles[\"event_id\"]) - set(params[\"event_nr\"])))\n",
    "\n",
    "hits_special_mask = np.in1d(hits[\"event_id\"], events_without_tracks)\n",
    "hits_special = hits[hits_special_mask]\n",
    "\n",
    "events_without_tracks"
   ]
  },
  {
   "cell_type": "code",
   "execution_count": null,
   "id": "1e68ca96-edf7-41fc-9eca-a65040f7fe32",
   "metadata": {},
   "outputs": [],
   "source": [
    "fig, ax = plt.subplots()\n",
    "\n",
    "ax.scatter(hits[\"tz\"], hits[\"tr\"], s=1e-3, c=\"C0\")\n",
    "ax.scatter(hits_special[\"tz\"], hits_special[\"tr\"], s=1e-0, c=\"C1\")"
   ]
  },
  {
   "cell_type": "code",
   "execution_count": null,
   "id": "ef4f5104-bbe4-4054-9424-6540603d69a9",
   "metadata": {},
   "outputs": [],
   "source": [
    "index = 3\n",
    "\n",
    "hits_mask = hits[\"event_id\"] == events_without_tracks[index]\n",
    "hits_special_selected = hits_special[hits_mask]\n",
    "\n",
    "fig, ax = plt.subplots()\n",
    "\n",
    "ax.scatter(hits[\"tz\"], hits[\"tr\"], s=1e-3, c=\"C0\")\n",
    "ax.scatter(hits_special_selected[\"tz\"], hits_special_selected[\"tr\"], s=1e+1, c=\"C1\")"
   ]
  },
  {
   "cell_type": "code",
   "execution_count": null,
   "id": "7708d1d6-4cd4-4fdb-adc5-83cb238d58d8",
   "metadata": {},
   "outputs": [],
   "source": [
    "hits_mask = hits[\"tz\"].abs() < 500\n",
    "hits_selected = hits[hits_mask]\n",
    "\n",
    "hits_mask = hits_special[\"tz\"].abs() < 500\n",
    "hits_special_selected = hits_special[hits_mask]\n",
    "\n",
    "fig, ax = plt.subplots()\n",
    "\n",
    "ax.scatter(hits_selected[\"tx\"], hits_selected[\"ty\"], s=1e-3, c=\"C0\")\n",
    "ax.scatter(hits_special_selected[\"tx\"], hits_special_selected[\"ty\"], s=1e-1, c=\"C1\")"
   ]
  },
  {
   "cell_type": "code",
   "execution_count": null,
   "id": "fa06acf8-4e2d-4872-a58e-0cb567c34d08",
   "metadata": {},
   "outputs": [],
   "source": [
    "hits_mask = (hits[\"tz\"].abs() < 500) & (hits[\"tr\"] < 200)\n",
    "hits_selected = hits[hits_mask]\n",
    "\n",
    "hits_mask = (hits_special[\"tz\"].abs() < 500) & (hits_special[\"tr\"] < 200)\n",
    "hits_special_selected = hits_special[hits_mask]\n",
    "\n",
    "fig, ax = plt.subplots()\n",
    "\n",
    "#ax.scatter(hits_selected[\"tx\"], hits_selected[\"ty\"], s=1e-3, c=\"C0\")\n",
    "ax.scatter(hits_special_selected[\"tx\"], hits_special_selected[\"ty\"], s=1e-0, c=\"C1\")"
   ]
  },
  {
   "cell_type": "code",
   "execution_count": null,
   "id": "f38b77a4-d219-487d-97e4-48fc3be72e0f",
   "metadata": {},
   "outputs": [],
   "source": []
  }
 ],
 "metadata": {
  "kernelspec": {
   "display_name": "Python 3 (ipykernel)",
   "language": "python",
   "name": "python3"
  },
  "language_info": {
   "codemirror_mode": {
    "name": "ipython",
    "version": 3
   },
   "file_extension": ".py",
   "mimetype": "text/x-python",
   "name": "python",
   "nbconvert_exporter": "python",
   "pygments_lexer": "ipython3",
   "version": "3.12.11"
  }
 },
 "nbformat": 4,
 "nbformat_minor": 5
}
