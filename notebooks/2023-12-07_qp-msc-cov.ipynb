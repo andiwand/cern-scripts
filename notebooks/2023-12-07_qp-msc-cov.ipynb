{
 "cells": [
  {
   "cell_type": "code",
   "execution_count": null,
   "id": "4695305e-17a8-4bfc-835f-3bf6ba6e44e7",
   "metadata": {},
   "outputs": [],
   "source": [
    "import sympy as sym"
   ]
  },
  {
   "cell_type": "code",
   "execution_count": null,
   "id": "9f6ce163-28ca-4c29-a715-6de8cd4c5d48",
   "metadata": {},
   "outputs": [],
   "source": [
    "d1,d2,d3 = sym.symbols(['d1', 'd2', 'd3'], positive=True)\n",
    "d = sym.Matrix([d1,d2,d3])\n",
    "d"
   ]
  },
  {
   "cell_type": "code",
   "execution_count": null,
   "id": "c800eb07-9a5e-471c-96c1-869767028ed0",
   "metadata": {},
   "outputs": [],
   "source": [
    "s_t = sym.Symbol(r'\\sigma_\\theta')\n",
    "s_t"
   ]
  },
  {
   "cell_type": "code",
   "execution_count": null,
   "id": "46031eb9-b9f5-475e-b5fe-c2c762e60fa9",
   "metadata": {},
   "outputs": [],
   "source": [
    "s_p = s_t * (d.norm() / d[0:2,0].norm())\n",
    "s_p = s_p.subs(d.norm(),1)\n",
    "s_p"
   ]
  },
  {
   "cell_type": "code",
   "execution_count": null,
   "id": "fac115d7-b31d-4026-bdd5-311df69ed7f4",
   "metadata": {},
   "outputs": [],
   "source": [
    "cov_angles = sym.Matrix([[s_p*s_p,0],[0,s_t*s_t]])\n",
    "cov_angles"
   ]
  },
  {
   "cell_type": "code",
   "execution_count": null,
   "id": "7246da84-388a-45e0-9111-0c19edde65d1",
   "metadata": {},
   "outputs": [],
   "source": [
    "cos_theta = d3\n",
    "sin_theta = sym.sqrt(d1**2+d2**2)\n",
    "cos_phi = d1 / sin_theta\n",
    "sin_phi = d2 / sin_theta\n",
    "jacobian = sym.Matrix([\n",
    "    [-sin_theta*sin_phi, cos_theta*cos_phi],\n",
    "    [sin_theta*cos_phi, cos_theta*sin_phi],\n",
    "    [0,-sin_theta],\n",
    "])\n",
    "jacobian"
   ]
  },
  {
   "cell_type": "code",
   "execution_count": null,
   "id": "b8501735-f3ad-466c-bbd5-30b2f013b06f",
   "metadata": {},
   "outputs": [],
   "source": [
    "jacobian @ cov_angles @ jacobian.T"
   ]
  },
  {
   "cell_type": "code",
   "execution_count": null,
   "id": "a4306479-2db3-433c-81e7-4e49280023ea",
   "metadata": {},
   "outputs": [],
   "source": [
    "expr = jacobian @ cov_angles @ jacobian.T\n",
    "expr = sym.simplify(expr)\n",
    "expr"
   ]
  },
  {
   "cell_type": "code",
   "execution_count": null,
   "id": "78982f67-c3c8-411a-a35a-cdc38fed195f",
   "metadata": {},
   "outputs": [],
   "source": [
    "expr = expr.subs(d3**2,1-d1**2-d2**2)\n",
    "expr = sym.simplify(expr)\n",
    "expr = expr.subs(1-d1**2-d2**2,d3**2)\n",
    "expr = sym.simplify(expr)\n",
    "expr"
   ]
  },
  {
   "cell_type": "code",
   "execution_count": null,
   "id": "6bf7a2b6-ca69-41af-8665-0db05518930a",
   "metadata": {},
   "outputs": [],
   "source": [
    "sym.eye(3) - d @ d.T"
   ]
  },
  {
   "cell_type": "code",
   "execution_count": null,
   "id": "63ac7591-2c94-4c4e-8407-a2a957e27aae",
   "metadata": {},
   "outputs": [],
   "source": []
  },
  {
   "cell_type": "code",
   "execution_count": null,
   "id": "3accbc5e-d3f6-49b3-a88d-bbd4f4a04e98",
   "metadata": {},
   "outputs": [],
   "source": [
    "# inverse jacobian\n",
    "inverse_jacobian = sym.Matrix([\n",
    "    [-sin_phi/sin_theta, cos_phi/sin_theta, 0],\n",
    "    [cos_phi*cos_theta, sin_phi*cos_theta, -sin_theta],\n",
    "])\n",
    "inverse_jacobian = inverse_jacobian.subs(d1**2+d2**2,1-d3**2)\n",
    "inverse_jacobian"
   ]
  },
  {
   "cell_type": "code",
   "execution_count": null,
   "id": "1a639526-994a-45e5-8c59-0f45f5ca48c5",
   "metadata": {},
   "outputs": [],
   "source": [
    "sym.simplify(inverse_jacobian @ jacobian)"
   ]
  },
  {
   "cell_type": "code",
   "execution_count": null,
   "id": "9290829b-98ce-468f-a027-e2982398dacc",
   "metadata": {},
   "outputs": [],
   "source": [
    "sym.pprint(cov_angles, use_unicode=False)"
   ]
  }
 ],
 "metadata": {
  "kernelspec": {
   "display_name": "Python 3 (ipykernel)",
   "language": "python",
   "name": "python3"
  },
  "language_info": {
   "codemirror_mode": {
    "name": "ipython",
    "version": 3
   },
   "file_extension": ".py",
   "mimetype": "text/x-python",
   "name": "python",
   "nbconvert_exporter": "python",
   "pygments_lexer": "ipython3",
   "version": "3.12.2"
  }
 },
 "nbformat": 4,
 "nbformat_minor": 5
}
