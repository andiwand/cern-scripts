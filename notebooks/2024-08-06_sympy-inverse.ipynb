{
 "cells": [
  {
   "cell_type": "code",
   "execution_count": null,
   "id": "d94f4cff-ea9a-4d5b-b3a5-dbd3944b0953",
   "metadata": {},
   "outputs": [],
   "source": [
    "import sympy\n",
    "from sympy import MatrixSymbol"
   ]
  },
  {
   "cell_type": "code",
   "execution_count": null,
   "id": "8cc5a82c-435b-47be-9eb1-93503ad0b9d4",
   "metadata": {},
   "outputs": [],
   "source": [
    "MatrixSymbol(\"M\", 1, 1).as_explicit().inverse()"
   ]
  },
  {
   "cell_type": "code",
   "execution_count": null,
   "id": "0517a587-5561-476d-bb14-67455d998c17",
   "metadata": {},
   "outputs": [],
   "source": [
    "MatrixSymbol(\"M\", 2, 2).as_explicit().inverse()"
   ]
  },
  {
   "cell_type": "code",
   "execution_count": null,
   "id": "1bdcaca8-c414-4f67-bb84-53ea3303310d",
   "metadata": {},
   "outputs": [],
   "source": [
    "MatrixSymbol(\"M\", 3, 3).as_explicit().inverse()"
   ]
  },
  {
   "cell_type": "code",
   "execution_count": null,
   "id": "a6c38831-2de5-4ffc-ae48-a0ceb67830bd",
   "metadata": {},
   "outputs": [],
   "source": [
    "MatrixSymbol(\"M\", 4, 4).as_explicit().inverse()"
   ]
  },
  {
   "cell_type": "code",
   "execution_count": null,
   "id": "ce1c944e-9f88-478c-998d-3e809f01db03",
   "metadata": {},
   "outputs": [],
   "source": []
  }
 ],
 "metadata": {
  "kernelspec": {
   "display_name": "Python 3 (ipykernel)",
   "language": "python",
   "name": "python3"
  },
  "language_info": {
   "codemirror_mode": {
    "name": "ipython",
    "version": 3
   },
   "file_extension": ".py",
   "mimetype": "text/x-python",
   "name": "python",
   "nbconvert_exporter": "python",
   "pygments_lexer": "ipython3",
   "version": "3.12.3"
  }
 },
 "nbformat": 4,
 "nbformat_minor": 5
}
