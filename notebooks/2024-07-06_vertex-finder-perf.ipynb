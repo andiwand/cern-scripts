{
 "cells": [
  {
   "cell_type": "code",
   "execution_count": null,
   "id": "7f7a6042-f17a-4c08-b542-b58727be63bb",
   "metadata": {},
   "outputs": [],
   "source": [
    "import numpy as np\n",
    "import pandas as pd\n",
    "import matplotlib.pyplot as plt"
   ]
  },
  {
   "cell_type": "code",
   "execution_count": null,
   "id": "9b1bcf5f-59f3-40db-ab5b-d25301c8b80f",
   "metadata": {},
   "outputs": [],
   "source": [
    "perf = pd.read_csv(\"2024-07-11_vertex-finder-perf.txt\")\n",
    "\n",
    "perf"
   ]
  },
  {
   "cell_type": "code",
   "execution_count": null,
   "id": "c9cfac7e-bb3b-4707-8dfa-0a61e3c2446e",
   "metadata": {},
   "outputs": [],
   "source": [
    "fig = plt.figure(figsize=(10,6))\n",
    "(ax1, ax2) = fig.subplots(2, 1, sharex=True, gridspec_kw={\"height_ratios\": [1, 1]})\n",
    "\n",
    "algs = perf[\"vtxName\"].unique()\n",
    "\n",
    "for i, alg in enumerate(algs):\n",
    "    if alg == \"amvf_grid_sparse_time\":\n",
    "        continue\n",
    "    d = perf[perf[\"vtxName\"] == alg]\n",
    "    ax1.plot(d[\"pu\"], d[\"vtxTime_mean\"], \"o--\", color=f\"C{i}\", label=f\"{alg}\")\n",
    "    ax2.plot(d[\"pu\"], d[\"nCleanVtx_mean\"], \"o--\", color=f\"C{i}\", label=f\"{alg}\")\n",
    "\n",
    "ax1.legend()\n",
    "fig.suptitle(\"Vertex finding performance\")\n",
    "ax1.set_title(\"CPU\")\n",
    "ax1.set_ylabel(\"time [s]\")\n",
    "ax2.set_title(\"Physics\")\n",
    "ax2.set_xlabel(\"pile-up []\")\n",
    "ax2.set_ylabel(\"# Clean Vtx []\")"
   ]
  },
  {
   "cell_type": "code",
   "execution_count": null,
   "id": "ee56cc08-94f5-4c1d-b0c5-c309b56e7663",
   "metadata": {},
   "outputs": [],
   "source": []
  }
 ],
 "metadata": {
  "kernelspec": {
   "display_name": "Python 3 (ipykernel)",
   "language": "python",
   "name": "python3"
  },
  "language_info": {
   "codemirror_mode": {
    "name": "ipython",
    "version": 3
   },
   "file_extension": ".py",
   "mimetype": "text/x-python",
   "name": "python",
   "nbconvert_exporter": "python",
   "pygments_lexer": "ipython3",
   "version": "3.12.3"
  }
 },
 "nbformat": 4,
 "nbformat_minor": 5
}
