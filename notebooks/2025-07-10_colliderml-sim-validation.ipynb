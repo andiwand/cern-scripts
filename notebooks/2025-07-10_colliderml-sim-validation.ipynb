{
 "cells": [
  {
   "cell_type": "code",
   "execution_count": null,
   "id": "6b9addde-bf08-460b-b085-e1bc0ce0b57a",
   "metadata": {},
   "outputs": [],
   "source": [
    "import uproot\n",
    "import numpy as np\n",
    "import pandas as pd\n",
    "import awkward as ak\n",
    "import matplotlib.pyplot as plt"
   ]
  },
  {
   "cell_type": "code",
   "execution_count": null,
   "id": "2bacf09c-87e3-47c5-834f-d91bdc96688f",
   "metadata": {},
   "outputs": [],
   "source": [
    "particles = uproot.open(\"/Users/andreas/cern/source/acts/acts/dev3/colliderml_output/particles_simulated.root\")\n",
    "particles = particles[\"particles\"].arrays(library=\"ak\")\n",
    "particles = ak.to_dataframe(particles, how=\"inner\")\n",
    "\n",
    "particles_selected = uproot.open(\"/Users/andreas/cern/source/acts/acts/dev3/colliderml_output/particles_selected.root\")\n",
    "particles_selected = particles_selected[\"particles\"].arrays(library=\"ak\")\n",
    "particles_selected = ak.to_dataframe(particles_selected, how=\"inner\")\n",
    "\n",
    "hits = uproot.open(\"/Users/andreas/cern/source/acts/acts/dev3/colliderml_output/hits.root\")\n",
    "hits = hits[\"hits\"].arrays(library=\"ak\")\n",
    "hits = ak.to_dataframe(hits, how=\"inner\")"
   ]
  },
  {
   "cell_type": "code",
   "execution_count": null,
   "id": "df3bdb66-8e47-4518-a181-5b9d5baf3142",
   "metadata": {},
   "outputs": [],
   "source": [
    "particles"
   ]
  },
  {
   "cell_type": "code",
   "execution_count": null,
   "id": "7470b0b7-b97e-4646-9ac2-d9d4d1256e01",
   "metadata": {},
   "outputs": [],
   "source": [
    "particles_selected"
   ]
  },
  {
   "cell_type": "code",
   "execution_count": null,
   "id": "1ff68622-b61a-4705-87d9-53c0ef1053d5",
   "metadata": {},
   "outputs": [],
   "source": [
    "hits"
   ]
  },
  {
   "cell_type": "code",
   "execution_count": null,
   "id": "e900e0fb-f913-4ad9-b27e-178e6c2ddfee",
   "metadata": {},
   "outputs": [],
   "source": [
    "ref_particles_selected = particles[\n",
    "    (particles[\"vz\"].abs() < 1000) &\n",
    "    (np.linalg.norm(particles[[\"vx\",\"vy\"]].values,axis=1) < 24) &\n",
    "    (particles[\"pt\"] >= 1) &\n",
    "    (particles[\"q\"] != 0) &\n",
    "    (particles[\"eta\"].abs() < 3) &\n",
    "    (particles[\"number_of_hits\"] >= 6)\n",
    "]\n",
    "\n",
    "types, counts = np.unique(ref_particles_selected[\"particle_type\"], return_counts=True)\n",
    "\n",
    "plt.bar([str(t) for t in types], counts);\n",
    "plt.gca().tick_params(axis='x', labelrotation=90)\n",
    "\n",
    "ref_particles_selected"
   ]
  },
  {
   "cell_type": "code",
   "execution_count": null,
   "id": "4c604fc9-6aa6-4c5e-8a8a-522c0d9f5c96",
   "metadata": {},
   "outputs": [],
   "source": [
    "plt.hist2d(ref_particles_selected[\"eta\"], ref_particles_selected[\"number_of_hits\"], bins=(30, 20))\n",
    "plt.xlabel(r\"$\\eta$\")\n",
    "plt.ylabel(\"number of hits\")\n",
    "\n",
    "pass"
   ]
  },
  {
   "cell_type": "code",
   "execution_count": null,
   "id": "30b5339c-febc-451c-9303-51ae4b27d56e",
   "metadata": {},
   "outputs": [],
   "source": [
    "types, counts = np.unique(particles_selected[\"particle_type\"], return_counts=True)\n",
    "\n",
    "plt.bar([str(t) for t in types], counts);\n",
    "plt.gca().tick_params(axis='x', labelrotation=90)\n",
    "\n",
    "particles_selected"
   ]
  },
  {
   "cell_type": "code",
   "execution_count": null,
   "id": "6601fc79-fead-499d-9229-bbffe1a9e80c",
   "metadata": {},
   "outputs": [],
   "source": [
    "plt.hist2d(particles_selected[\"eta\"], particles_selected[\"number_of_hits\"], bins=(30, 20))\n",
    "plt.xlabel(r\"$\\eta$\")\n",
    "plt.ylabel(\"number of hits\")\n",
    "\n",
    "pass"
   ]
  },
  {
   "cell_type": "code",
   "execution_count": null,
   "id": "ccf589fb-fc68-4dbd-9a81-af4d81e8e656",
   "metadata": {},
   "outputs": [],
   "source": [
    "plt.scatter(hits[\"tz\"], np.linalg.norm(hits[[\"tx\",\"ty\"]].values,axis=1), s=0.5, color=\"C0\", zorder=0)\n",
    "\n",
    "hits_selected = particles_selected.set_index([\"event_id\", \"particle_id\"]).join(hits.set_index([\"event_id\", \"particle_id\"]), how=\"inner\")\n",
    "\n",
    "plt.scatter(hits_selected[\"tz\"], np.linalg.norm(hits_selected[[\"tx\",\"ty\"]].values,axis=1), s=0.5, color=\"C1\", zorder=1)\n",
    "\n",
    "n = 0\n",
    "for (event_id, particle_id), particle_hits in hits_selected.groupby([\"event_id\", \"particle_id\"]):\n",
    "    if n > 100:\n",
    "        break\n",
    "    n += 1\n",
    "\n",
    "    particle_hits[\"distance_origin\"] = np.linalg.norm(particle_hits[[\"tx\",\"ty\",\"tz\"]].values,axis=1)\n",
    "    particle_hits.sort_values(by=\"distance_origin\")\n",
    "\n",
    "    plt.plot(particle_hits[\"tz\"], np.linalg.norm(particle_hits[[\"tx\",\"ty\"]].values,axis=1), \"--\", color=\"C2\", zorder=2)"
   ]
  },
  {
   "cell_type": "code",
   "execution_count": null,
   "id": "53e2e271-409a-4921-a89f-709670b7265e",
   "metadata": {},
   "outputs": [],
   "source": []
  }
 ],
 "metadata": {
  "kernelspec": {
   "display_name": "Python 3 (ipykernel)",
   "language": "python",
   "name": "python3"
  },
  "language_info": {
   "codemirror_mode": {
    "name": "ipython",
    "version": 3
   },
   "file_extension": ".py",
   "mimetype": "text/x-python",
   "name": "python",
   "nbconvert_exporter": "python",
   "pygments_lexer": "ipython3",
   "version": "3.12.11"
  }
 },
 "nbformat": 4,
 "nbformat_minor": 5
}
