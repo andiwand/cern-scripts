{
 "cells": [
  {
   "cell_type": "code",
   "execution_count": null,
   "id": "6cbbda9b-02dc-48ee-8a15-e5423a234bb2",
   "metadata": {},
   "outputs": [],
   "source": [
    "import math"
   ]
  },
  {
   "cell_type": "code",
   "execution_count": null,
   "id": "85446510-f900-4273-bddc-674a2f578aee",
   "metadata": {},
   "outputs": [],
   "source": [
    "def spherical_to_cartesian(r, phi, theta):\n",
    "    x = r * math.sin(theta) * math.cos(phi)\n",
    "    y = r * math.sin(theta) * math.sin(phi)\n",
    "    z = r * math.cos(theta)\n",
    "    \n",
    "    return x, y, z\n",
    "\n",
    "def normalize_phi_theta(phi, theta):\n",
    "    theta = theta % (2*math.pi)\n",
    "    if theta < 0:\n",
    "        theta = theta + 2*math.pi\n",
    "    if theta > math.pi:\n",
    "        phi = phi + math.pi\n",
    "        theta = 2*math.pi - theta\n",
    "    phi = phi % (2*math.pi)\n",
    "    if phi < 0:\n",
    "        phi = phi + 2*math.pi\n",
    "    return phi, theta"
   ]
  },
  {
   "cell_type": "code",
   "execution_count": null,
   "id": "de4744f6-cbfd-48db-8f3d-233bea65559a",
   "metadata": {},
   "outputs": [],
   "source": [
    "r, phi, theta = 1, -1.2244, 2.28317\n",
    "spherical_to_cartesian(r, phi, theta)"
   ]
  },
  {
   "cell_type": "code",
   "execution_count": null,
   "id": "5d2f5a5a-8ad4-4699-85ca-c67bee6fd042",
   "metadata": {},
   "outputs": [],
   "source": [
    "inv_phi = phi + math.pi\n",
    "inv_theta = math.pi - theta\n",
    "inv_phi, inv_theta"
   ]
  },
  {
   "cell_type": "code",
   "execution_count": null,
   "id": "6aa7c579-8790-4d93-9490-811e7be94dad",
   "metadata": {},
   "outputs": [],
   "source": [
    "spherical_to_cartesian(r, inv_phi, inv_theta)"
   ]
  },
  {
   "cell_type": "code",
   "execution_count": null,
   "id": "e8ae79ee-6f03-4946-81e9-d3e40d809075",
   "metadata": {},
   "outputs": [],
   "source": [
    "inv_phi, inv_theta = normalize_phi_theta(inv_phi, inv_theta)\n",
    "inv_phi, inv_theta"
   ]
  },
  {
   "cell_type": "code",
   "execution_count": null,
   "id": "cbf192fc-d87f-4e24-810e-9a6e41ad3849",
   "metadata": {},
   "outputs": [],
   "source": [
    "spherical_to_cartesian(r, inv_phi, inv_theta)"
   ]
  },
  {
   "cell_type": "code",
   "execution_count": null,
   "id": "3c2b60ca-b7bc-4aa1-b2a4-e7b44884a562",
   "metadata": {},
   "outputs": [],
   "source": [
    "spherical_to_cartesian(r, 1.91719, 0.858426)"
   ]
  },
  {
   "cell_type": "code",
   "execution_count": null,
   "id": "f80d8713-2e1f-4bd1-b8e0-a59ce99aac43",
   "metadata": {},
   "outputs": [],
   "source": []
  }
 ],
 "metadata": {
  "kernelspec": {
   "display_name": "Python 3 (ipykernel)",
   "language": "python",
   "name": "python3"
  },
  "language_info": {
   "codemirror_mode": {
    "name": "ipython",
    "version": 3
   },
   "file_extension": ".py",
   "mimetype": "text/x-python",
   "name": "python",
   "nbconvert_exporter": "python",
   "pygments_lexer": "ipython3",
   "version": "3.12.3"
  }
 },
 "nbformat": 4,
 "nbformat_minor": 5
}
