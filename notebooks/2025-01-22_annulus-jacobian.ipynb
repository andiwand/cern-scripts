{
 "cells": [
  {
   "cell_type": "code",
   "execution_count": null,
   "id": "6fa927ba-f6cb-4e05-a9be-e93c89e73376",
   "metadata": {},
   "outputs": [],
   "source": [
    "import sympy as sym\n",
    "from sympy import Matrix"
   ]
  },
  {
   "cell_type": "code",
   "execution_count": null,
   "id": "a8236b95-6753-4e27-9ecb-f7962a4fb7dd",
   "metadata": {},
   "outputs": [],
   "source": [
    "r, phi = sym.symbols([\"r\", \"phi\"])\n",
    "x, y = r*sym.cos(phi), r*sym.sin(phi)"
   ]
  },
  {
   "cell_type": "code",
   "execution_count": null,
   "id": "28334946-e7b5-4c97-b8aa-868a103ca751",
   "metadata": {},
   "outputs": [],
   "source": [
    "shift_x, shift_y = sym.symbols([\"shift_x\", \"shift_y\"])\n",
    "\n",
    "strip_r, strip_phi = sym.symbols([\"strip_r\", \"strip_phi\"])\n",
    "strip_x, strip_y = strip_r*sym.cos(strip_phi), strip_r*sym.sin(strip_phi)\n",
    "module_x, module_y = strip_x+shift_x, strip_y+shift_y\n",
    "module_r, module_phi = sym.sqrt(module_x**2 + module_y**2), sym.atan2(module_y, module_x)"
   ]
  },
  {
   "cell_type": "code",
   "execution_count": null,
   "id": "d2a18e0a-0b2d-49ea-b466-bd382fd9e247",
   "metadata": {},
   "outputs": [],
   "source": [
    "jac_strip_to_module = Matrix([module_r, module_phi]).jacobian(Matrix([strip_r, strip_phi]))\n",
    "jac_strip_to_module.simplify()\n",
    "jac_strip_to_module"
   ]
  },
  {
   "cell_type": "code",
   "execution_count": null,
   "id": "9d9243bf-642c-4b2d-87c8-5cf40b43b640",
   "metadata": {},
   "outputs": [],
   "source": [
    "sym.cse(jac_strip_to_module)"
   ]
  },
  {
   "cell_type": "code",
   "execution_count": null,
   "id": "52d9c3fc-ca1f-40b7-a928-25f5cd2eb921",
   "metadata": {},
   "outputs": [],
   "source": [
    "terms, result = sym.cse(jac_strip_to_module)\n",
    "for var, term in terms:\n",
    "    print(sym.printing.cxxcode(term, var, standard=\"C++17\"))\n",
    "print(sym.printing.cxxcode(result, var, standard=\"C++17\"))"
   ]
  },
  {
   "cell_type": "code",
   "execution_count": null,
   "id": "7cffbdab-e220-4350-a81a-8708f5478615",
   "metadata": {},
   "outputs": [],
   "source": []
  }
 ],
 "metadata": {
  "kernelspec": {
   "display_name": "Python 3 (ipykernel)",
   "language": "python",
   "name": "python3"
  },
  "language_info": {
   "codemirror_mode": {
    "name": "ipython",
    "version": 3
   },
   "file_extension": ".py",
   "mimetype": "text/x-python",
   "name": "python",
   "nbconvert_exporter": "python",
   "pygments_lexer": "ipython3",
   "version": "3.12.7"
  }
 },
 "nbformat": 4,
 "nbformat_minor": 5
}
