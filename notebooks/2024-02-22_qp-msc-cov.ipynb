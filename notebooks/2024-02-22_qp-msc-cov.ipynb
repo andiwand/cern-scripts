{
 "cells": [
  {
   "cell_type": "code",
   "execution_count": null,
   "id": "208bca82-90f2-4315-bedc-4f9d05222f86",
   "metadata": {},
   "outputs": [],
   "source": [
    "import sympy as sym"
   ]
  },
  {
   "cell_type": "code",
   "execution_count": null,
   "id": "329c0e78-de3c-4fc0-a509-33175d20670f",
   "metadata": {},
   "outputs": [],
   "source": [
    "d1,d2,d3 = sym.symbols(['d1', 'd2', 'd3'], positive=True)\n",
    "d = sym.Matrix([d1,d2,d3])\n",
    "d"
   ]
  },
  {
   "cell_type": "code",
   "execution_count": null,
   "id": "ea23f01f-6dc9-4cac-90f7-a4963487e456",
   "metadata": {},
   "outputs": [],
   "source": [
    "s_t = sym.Symbol(r'\\sigma_\\theta', positive=True)\n",
    "s_t"
   ]
  },
  {
   "cell_type": "code",
   "execution_count": null,
   "id": "cf48560b-f088-446d-ac6f-7cf28ae25ba6",
   "metadata": {},
   "outputs": [],
   "source": [
    "cov_msc = s_t * (sym.eye(3) - d @ d.T)\n",
    "cov_msc"
   ]
  },
  {
   "cell_type": "code",
   "execution_count": null,
   "id": "2a737ccf-ab58-48f9-830c-1836426808ab",
   "metadata": {},
   "outputs": [],
   "source": [
    "s_x0,s_y0,s_z0,s_t0 = sym.symbols([r'\\sigma_x_0', r'\\sigma_y_0', r'\\sigma_z_0', r'\\sigma_t_0'], positive=True)\n",
    "s_qop0 = sym.Symbol(r'\\sigma_{{q/p}_0}', positive=True)\n",
    "s_dx0, s_dy0, s_dz0 = sym.symbols([r'\\sigma_{{d_x}_0}', r'\\sigma_{{d_y}_0}', r'\\sigma_{{d_z}_0}'], positive=True)\n",
    "\n",
    "cov_0 = sym.diag(s_x0, s_y0, s_z0, s_t0, s_dx0, s_dy0, s_dz0, s_qop0)\n",
    "cov_0"
   ]
  },
  {
   "cell_type": "code",
   "execution_count": null,
   "id": "6acc1e28-8139-4287-8ef0-cc5f0c0e10b0",
   "metadata": {},
   "outputs": [],
   "source": [
    "h = sym.Symbol(r'h')\n",
    "m = sym.Symbol(r'm', positive=True)\n",
    "dtds = sym.Symbol(r'd_{t}/d_s')\n",
    "\n",
    "J_t_s = sym.Matrix(sym.BlockMatrix([\n",
    "    [sym.eye(4), h*sym.diag(1,1,1,m*m/dtds)],\n",
    "    [sym.zeros(4), sym.eye(4)],\n",
    "]))\n",
    "J_t_s"
   ]
  },
  {
   "cell_type": "code",
   "execution_count": null,
   "id": "ab184db3-0131-41c9-bd40-84ff95d24d79",
   "metadata": {},
   "outputs": [],
   "source": [
    "J_t_s @ (cov_0 + sym.diag(sym.zeros(4,4),cov_msc,0)) @ J_t_s.T"
   ]
  },
  {
   "cell_type": "code",
   "execution_count": null,
   "id": "bf321c87-2090-40d7-aeae-a1a912c94170",
   "metadata": {},
   "outputs": [],
   "source": [
    "# the transport jacobian of the eigenstepper looks a bit too complicated to put it here by hand\n",
    "\n",
    "# alternatively I could put in the equation of motion, push it through the RK4 and pull the full jacobian out... story for another day"
   ]
  }
 ],
 "metadata": {
  "kernelspec": {
   "display_name": "Python 3 (ipykernel)",
   "language": "python",
   "name": "python3"
  },
  "language_info": {
   "codemirror_mode": {
    "name": "ipython",
    "version": 3
   },
   "file_extension": ".py",
   "mimetype": "text/x-python",
   "name": "python",
   "nbconvert_exporter": "python",
   "pygments_lexer": "ipython3",
   "version": "3.12.1"
  }
 },
 "nbformat": 4,
 "nbformat_minor": 5
}
