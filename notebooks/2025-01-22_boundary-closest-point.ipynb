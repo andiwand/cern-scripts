{
 "cells": [
  {
   "cell_type": "code",
   "execution_count": null,
   "id": "5dc30daf-49b9-4410-9335-96994b2d7b4a",
   "metadata": {},
   "outputs": [],
   "source": [
    "from pathlib import Path\n",
    "import pandas as pd\n",
    "import numpy as np\n",
    "import matplotlib.pyplot as plt"
   ]
  },
  {
   "cell_type": "code",
   "execution_count": null,
   "id": "a90be919-8317-4bf9-918f-62cffd2e8261",
   "metadata": {},
   "outputs": [],
   "source": [
    "import matplotlib\n",
    "matplotlib.use('nbagg')\n",
    "import matplotlib.pyplot as plt\n",
    "%matplotlib widget"
   ]
  },
  {
   "cell_type": "code",
   "execution_count": null,
   "id": "ad559881-3180-422c-beb0-041d28dec717",
   "metadata": {},
   "outputs": [],
   "source": [
    "data = np.genfromtxt(\"/Users/andreas/cern/source/acts/acts/dev2/closest_global.csv\", delimiter=\",\")"
   ]
  },
  {
   "cell_type": "code",
   "execution_count": null,
   "id": "566281a4-b1ad-4a15-a361-e11845bb0c20",
   "metadata": {},
   "outputs": [],
   "source": [
    "plt.gca().set_aspect(\"equal\")"
   ]
  },
  {
   "cell_type": "code",
   "execution_count": null,
   "id": "096d714d-57ab-47ad-b3c4-e62cbf3d864c",
   "metadata": {},
   "outputs": [],
   "source": [
    "plt.scatter(data[:,2], data[:,3])\n",
    "plt.show();"
   ]
  },
  {
   "cell_type": "code",
   "execution_count": null,
   "id": "f95fe1d8-3759-458a-922e-7e17f72ba830",
   "metadata": {},
   "outputs": [],
   "source": [
    "plt.scatter(data[:,2], data[:,3])\n",
    "\n",
    "for d in data:\n",
    "    if np.linalg.norm(d[:2]-d[2:]) > 0.3:\n",
    "        continue\n",
    "    plt.arrow(d[0],d[1],d[2]-d[0], d[3]-d[1], length_includes_head=True, alpha=0.3)\n",
    "\n",
    "plt.show();"
   ]
  },
  {
   "cell_type": "code",
   "execution_count": null,
   "id": "c0412d0b-b70e-4350-8e91-854ef4cc0653",
   "metadata": {},
   "outputs": [],
   "source": []
  }
 ],
 "metadata": {
  "kernelspec": {
   "display_name": "Python 3 (ipykernel)",
   "language": "python",
   "name": "python3"
  },
  "language_info": {
   "codemirror_mode": {
    "name": "ipython",
    "version": 3
   },
   "file_extension": ".py",
   "mimetype": "text/x-python",
   "name": "python",
   "nbconvert_exporter": "python",
   "pygments_lexer": "ipython3",
   "version": "3.12.7"
  }
 },
 "nbformat": 4,
 "nbformat_minor": 5
}
